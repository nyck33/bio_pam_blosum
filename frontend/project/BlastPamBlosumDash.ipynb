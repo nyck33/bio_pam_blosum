{
 "cells": [
  {
   "cell_type": "code",
   "execution_count": 1,
   "metadata": {},
   "outputs": [
    {
     "data": {
      "text/html": [
       "<style>.container { width:100% !important; }</style>"
      ],
      "text/plain": [
       "<IPython.core.display.HTML object>"
      ]
     },
     "metadata": {},
     "output_type": "display_data"
    }
   ],
   "source": [
    "# make cells wider\n",
    "from IPython.core.display import display, HTML\n",
    "display(HTML(\"<style>.container { width:100% !important; }</style>\"))"
   ]
  },
  {
   "cell_type": "code",
   "execution_count": 2,
   "metadata": {},
   "outputs": [
    {
     "data": {
      "text/plain": [
       "['BENNER22',\n",
       " 'BENNER6',\n",
       " 'BENNER74',\n",
       " 'BLOSUM45',\n",
       " 'BLOSUM50',\n",
       " 'BLOSUM62',\n",
       " 'BLOSUM80',\n",
       " 'BLOSUM90',\n",
       " 'DAYHOFF',\n",
       " 'FENG',\n",
       " 'GENETIC',\n",
       " 'GONNET1992',\n",
       " 'HOXD70',\n",
       " 'JOHNSON',\n",
       " 'JONES',\n",
       " 'LEVIN',\n",
       " 'MCLACHLAN',\n",
       " 'MDM78',\n",
       " 'NUC.4.4',\n",
       " 'PAM250',\n",
       " 'PAM30',\n",
       " 'PAM70',\n",
       " 'RAO',\n",
       " 'RISLER',\n",
       " 'SCHNEIDER',\n",
       " 'STR',\n",
       " 'TRANS']"
      ]
     },
     "execution_count": 2,
     "metadata": {},
     "output_type": "execute_result"
    }
   ],
   "source": [
    "from Bio.Align import substitution_matrices\n",
    "\n",
    "names = substitution_matrices.load()\n",
    "names"
   ]
  },
  {
   "cell_type": "code",
   "execution_count": 2,
   "metadata": {
    "scrolled": true
   },
   "outputs": [
    {
     "name": "stdout",
     "output_type": "stream",
     "text": [
      "1\n",
      "MATLKDQLIYNLLKEEQTPQNKITVVGVGAVGMACAISILMKDLADELALVDVIEDKLKGEMMDLQHGSLFLRTPKIVSGK----------------------------------------------------------VDILTYVAWKISGFPKNRVIGSGCNLDSARFRYLMGERLGVHPLSCHGWVLGEHGDSSVPVWSGMNVAGVSLKTLHPDLGTDKDKEQWKEVHKQVVESAYEVIKLKGYTSWAIGLSVADLAESIMKNLRRVHPVSTMIKGLYGIKDDVFLSVPCILGQNGISDLVKVTLTSEEEARLKKSADTLWGIQKELQF\n",
      "|||||||||.|||||||.|||||||||||||||||||||||||||||||||||.||||||||||||||||||.||||||.|                                                          ||||||||||||||||||||||||||||||||||||||||||.|||||||||||||||||||||.||||||||.|.|.||||.|||||||||||||.||||||||||||||||||||||||||||||||||||.||||||||||..|||||||||||||||||.||||||.||||||||||||||||||||||\n",
      "MATLKDQLIVNLLKEEQAPQNKITVVGVGAVGMACAISILMKDLADELALVDVMEDKLKGEMMDLQHGSLFLKTPKIVSSKDYCVTANSKLVIITAGARQQEGESRLNLVQRNVNIFKFIIPNIVKYSPHCKLLIVSNPVDILTYVAWKISGFPKNRVIGSGCNLDSARFRYLMGERLGVHALSCHGWVLGEHGDSSVPVWSGVNVAGVSLKSLNPELGTDADKEQWKEVHKQVVDSAYEVIKLKGYTSWAIGLSVADLAESIMKNLRRVHPISTMIKGLYGINEDVFLSVPCILGQNGISDVVKVTLTPEEEARLKKSADTLWGIQKELQF\n",
      "  Score=1294.5\n",
      "\n",
      "ID: NP_001128711.1\n",
      "Name: NP_001128711.1\n",
      "Description: NP_001128711.1 L-lactate dehydrogenase A chain isoform 2 [Homo sapiens]\n",
      "Number of features: 0\n",
      "Seq('MATLKDQLIYNLLKEEQTPQNKITVVGVGAVGMACAISILMKDLADELALVDVI...LQF')\n"
     ]
    }
   ],
   "source": [
    "#Biopython example for Blosum62\n",
    "from Bio import pairwise2\n",
    "from Bio import SeqIO\n",
    "from Bio.Align import substitution_matrices\n",
    "blosum62=substitution_matrices.load(\"BLOSUM62\")\n",
    "seq1 = SeqIO.read(\"example_fasta_files/homo_sapiens_lactate.fasta\", \"fasta\")\n",
    "seq2 = SeqIO.read(\"example_fasta_files/mus_musculus_lactate.fasta\", \"fasta\")\n",
    "alignments = pairwise2.align.globalds(seq1.seq, seq2.seq, blosum62, -10, -0.5)\n",
    "print(len(alignments))\n",
    "\n",
    "res = pairwise2.format_alignment(*alignments[0])\n",
    "print(res)\n",
    "\n",
    "print(seq1)\n"
   ]
  },
  {
   "cell_type": "code",
   "execution_count": 6,
   "metadata": {},
   "outputs": [
    {
     "name": "stdout",
     "output_type": "stream",
     "text": [
      "<class 'Bio.Seq.Seq'>\n",
      "<class 'str'>\n",
      "MATLKDQLIYNLLKEEQTPQNKITVVGVGAVGMACAISILMKDLADELALVDVIEDKLKGEMMDLQHGSLFLRTPKIVSGKVDILTYVAWKISGFPKNRVIGSGCNLDSARFRYLMGERLGVHPLSCHGWVLGEHGDSSVPVWSGMNVAGVSLKTLHPDLGTDKDKEQWKEVHKQVVESAYEVIKLKGYTSWAIGLSVADLAESIMKNLRRVHPVSTMIKGLYGIKDDVFLSVPCILGQNGISDLVKVTLTSEEEARLKKSADTLWGIQKELQF\n"
     ]
    }
   ],
   "source": [
    "print(type(seq1.seq))\n",
    "strrep = str(seq1.seq)\n",
    "print(type(strrep))\n",
    "print(strrep)"
   ]
  },
  {
   "cell_type": "code",
   "execution_count": 5,
   "metadata": {},
   "outputs": [
    {
     "name": "stdout",
     "output_type": "stream",
     "text": [
      "Collecting dash_bio==0.4.8\n",
      "  Downloading dash_bio-0.4.8.tar.gz (1.7 MB)\n",
      "\u001b[K     |████████████████████████████████| 1.7 MB 369 kB/s eta 0:00:01\n",
      "\u001b[?25hRequirement already satisfied: dash>=1.6.1 in /home/nobu/anaconda3/envs/bio/lib/python3.8/site-packages (from dash_bio==0.4.8) (1.17.0)\n",
      "Requirement already satisfied: pandas in /home/nobu/anaconda3/envs/bio/lib/python3.8/site-packages (from dash_bio==0.4.8) (1.1.2)\n",
      "Requirement already satisfied: scipy in /home/nobu/anaconda3/envs/bio/lib/python3.8/site-packages (from dash_bio==0.4.8) (1.5.3)\n",
      "Requirement already satisfied: scikit-learn>=0.20.1 in /home/nobu/anaconda3/envs/bio/lib/python3.8/site-packages (from dash_bio==0.4.8) (0.23.2)\n",
      "Requirement already satisfied: future in /home/nobu/anaconda3/envs/bio/lib/python3.8/site-packages (from dash>=1.6.1->dash_bio==0.4.8) (0.18.2)\n",
      "Requirement already satisfied: dash-renderer==1.8.3 in /home/nobu/anaconda3/envs/bio/lib/python3.8/site-packages (from dash>=1.6.1->dash_bio==0.4.8) (1.8.3)\n",
      "Requirement already satisfied: Flask>=1.0.2 in /home/nobu/anaconda3/envs/bio/lib/python3.8/site-packages (from dash>=1.6.1->dash_bio==0.4.8) (1.1.2)\n",
      "Requirement already satisfied: plotly in /home/nobu/anaconda3/envs/bio/lib/python3.8/site-packages (from dash>=1.6.1->dash_bio==0.4.8) (4.11.0)\n",
      "Requirement already satisfied: dash-html-components==1.1.1 in /home/nobu/anaconda3/envs/bio/lib/python3.8/site-packages (from dash>=1.6.1->dash_bio==0.4.8) (1.1.1)\n",
      "Requirement already satisfied: dash-table==4.11.0 in /home/nobu/anaconda3/envs/bio/lib/python3.8/site-packages (from dash>=1.6.1->dash_bio==0.4.8) (4.11.0)\n",
      "Requirement already satisfied: dash-core-components==1.13.0 in /home/nobu/anaconda3/envs/bio/lib/python3.8/site-packages (from dash>=1.6.1->dash_bio==0.4.8) (1.13.0)\n",
      "Requirement already satisfied: flask-compress in /home/nobu/anaconda3/envs/bio/lib/python3.8/site-packages (from dash>=1.6.1->dash_bio==0.4.8) (1.8.0)\n",
      "Requirement already satisfied: python-dateutil>=2.7.3 in /home/nobu/anaconda3/envs/bio/lib/python3.8/site-packages (from pandas->dash_bio==0.4.8) (2.8.1)\n",
      "Requirement already satisfied: pytz>=2017.2 in /home/nobu/anaconda3/envs/bio/lib/python3.8/site-packages (from pandas->dash_bio==0.4.8) (2020.1)\n",
      "Requirement already satisfied: numpy>=1.15.4 in /home/nobu/anaconda3/envs/bio/lib/python3.8/site-packages (from pandas->dash_bio==0.4.8) (1.19.2)\n",
      "Requirement already satisfied: threadpoolctl>=2.0.0 in /home/nobu/anaconda3/envs/bio/lib/python3.8/site-packages (from scikit-learn>=0.20.1->dash_bio==0.4.8) (2.1.0)\n",
      "Requirement already satisfied: joblib>=0.11 in /home/nobu/anaconda3/envs/bio/lib/python3.8/site-packages (from scikit-learn>=0.20.1->dash_bio==0.4.8) (0.17.0)\n",
      "Requirement already satisfied: Jinja2>=2.10.1 in /home/nobu/anaconda3/envs/bio/lib/python3.8/site-packages (from Flask>=1.0.2->dash>=1.6.1->dash_bio==0.4.8) (2.11.2)\n",
      "Requirement already satisfied: click>=5.1 in /home/nobu/anaconda3/envs/bio/lib/python3.8/site-packages (from Flask>=1.0.2->dash>=1.6.1->dash_bio==0.4.8) (7.1.2)\n",
      "Requirement already satisfied: Werkzeug>=0.15 in /home/nobu/anaconda3/envs/bio/lib/python3.8/site-packages (from Flask>=1.0.2->dash>=1.6.1->dash_bio==0.4.8) (1.0.1)\n",
      "Requirement already satisfied: itsdangerous>=0.24 in /home/nobu/anaconda3/envs/bio/lib/python3.8/site-packages (from Flask>=1.0.2->dash>=1.6.1->dash_bio==0.4.8) (1.1.0)\n",
      "Requirement already satisfied: six in /home/nobu/anaconda3/envs/bio/lib/python3.8/site-packages (from plotly->dash>=1.6.1->dash_bio==0.4.8) (1.15.0)\n",
      "Requirement already satisfied: retrying>=1.3.3 in /home/nobu/anaconda3/envs/bio/lib/python3.8/site-packages (from plotly->dash>=1.6.1->dash_bio==0.4.8) (1.3.3)\n",
      "Requirement already satisfied: brotli in /home/nobu/anaconda3/envs/bio/lib/python3.8/site-packages (from flask-compress->dash>=1.6.1->dash_bio==0.4.8) (1.0.9)\n",
      "Requirement already satisfied: MarkupSafe>=0.23 in /home/nobu/anaconda3/envs/bio/lib/python3.8/site-packages (from Jinja2>=2.10.1->Flask>=1.0.2->dash>=1.6.1->dash_bio==0.4.8) (1.1.1)\n",
      "Building wheels for collected packages: dash-bio\n",
      "  Building wheel for dash-bio (setup.py) ... \u001b[?25ldone\n",
      "\u001b[?25h  Created wheel for dash-bio: filename=dash_bio-0.4.8-py3-none-any.whl size=1677716 sha256=189ab2dc945fa35f6a082c03794911c4ff8a6851699ae5a1c6cc3ed6035547d6\n",
      "  Stored in directory: /home/nobu/.cache/pip/wheels/0f/ae/61/d2c531ae1071b5706da3b0aa798ea036e7fffaf67286ba45ba\n",
      "Successfully built dash-bio\n",
      "Installing collected packages: dash-bio\n",
      "Successfully installed dash-bio-0.4.8\n"
     ]
    }
   ],
   "source": [
    "! pip install dash_bio==0.4.8"
   ]
  },
  {
   "cell_type": "code",
   "execution_count": 1,
   "metadata": {},
   "outputs": [
    {
     "name": "stdout",
     "output_type": "stream",
     "text": [
      "0.4.8\n"
     ]
    }
   ],
   "source": [
    "import dash_bio\n",
    "print(dash_bio.__version__)"
   ]
  },
  {
   "cell_type": "markdown",
   "metadata": {},
   "source": [
    "# Results alignment chart demo"
   ]
  },
  {
   "cell_type": "code",
   "execution_count": 2,
   "metadata": {},
   "outputs": [],
   "source": [
    "import dash_bio as dashbio\n",
    "import six.moves.urllib.request as urlreq\n",
    "from six import PY3\n",
    "import dash_html_components as html\n",
    "import plotly.express as px\n",
    "from jupyter_dash import JupyterDash\n",
    "import dash_core_components as dcc\n",
    "import dash_bootstrap_components as dbc\n",
    "\n",
    "from dash.dependencies import Input, Output# Load Data\n",
    "\n"
   ]
  },
  {
   "cell_type": "code",
   "execution_count": 3,
   "metadata": {},
   "outputs": [],
   "source": [
    "external_stylesheets = ['https://codepen.io/chriddyp/pen/bWLwgP.css']"
   ]
  },
  {
   "cell_type": "code",
   "execution_count": 4,
   "metadata": {},
   "outputs": [],
   "source": [
    "df = px.data.tips()# Build App\n",
    "app = JupyterDash(__name__, external_stylesheets=external_stylesheets)"
   ]
  },
  {
   "cell_type": "code",
   "execution_count": 7,
   "metadata": {},
   "outputs": [
    {
     "name": "stdout",
     "output_type": "stream",
     "text": [
      ">NP_034829.1 L-lactate dehydrogenase A chain isofo\n"
     ]
    }
   ],
   "source": [
    "data = open('example_fasta_files/human_v_mus.fasta').read()\n",
    "print(data[:50])\n",
    "#if PY3:\n",
    "    #data = data.decode('utf-8')\n",
    "    #pass\n"
   ]
  },
  {
   "cell_type": "code",
   "execution_count": 15,
   "metadata": {},
   "outputs": [],
   "source": [
    "\n",
    "#just for testing\n",
    "app.layout = html.Div([\n",
    "    dashbio.AlignmentChart(\n",
    "        id='testchart',\n",
    "        data=data,\n",
    "        colorscale='hydro',\n",
    "        conservationcolorscale='blackbody',\n",
    "        tilewidth=50\n",
    "    ),\n",
    "    html.Div(id='alignment-output')\n",
    "])\n"
   ]
  },
  {
   "cell_type": "code",
   "execution_count": 16,
   "metadata": {},
   "outputs": [],
   "source": [
    "@app.callback(\n",
    "    Output('alignment-output', 'children'),\n",
    "    [Input('testchart', 'eventDatum')]\n",
    ")\n",
    "def update_output(value):\n",
    "    if value is None:\n",
    "        return 'No data'\n",
    "    return str(value)"
   ]
  },
  {
   "cell_type": "code",
   "execution_count": 17,
   "metadata": {},
   "outputs": [
    {
     "data": {
      "text/html": [
       "\n",
       "        <iframe\n",
       "            width=\"100%\"\n",
       "            height=\"650\"\n",
       "            src=\"http://127.0.0.1:8050/\"\n",
       "            frameborder=\"0\"\n",
       "            allowfullscreen\n",
       "        ></iframe>\n",
       "        "
      ],
      "text/plain": [
       "<IPython.lib.display.IFrame at 0x7fe2cee142e0>"
      ]
     },
     "metadata": {},
     "output_type": "display_data"
    }
   ],
   "source": [
    "app.run_server(mode='inline')"
   ]
  },
  {
   "cell_type": "markdown",
   "metadata": {},
   "source": [
    "# Web interface"
   ]
  },
  {
   "cell_type": "code",
   "execution_count": 2,
   "metadata": {},
   "outputs": [
    {
     "data": {
      "text/html": [
       "\n",
       "        <iframe\n",
       "            width=\"100%\"\n",
       "            height=\"650\"\n",
       "            src=\"http://127.0.0.1:8050/\"\n",
       "            frameborder=\"0\"\n",
       "            allowfullscreen\n",
       "        ></iframe>\n",
       "        "
      ],
      "text/plain": [
       "<IPython.lib.display.IFrame at 0x7f8a8fe57820>"
      ]
     },
     "metadata": {},
     "output_type": "display_data"
    }
   ],
   "source": [
    "import plotly.express as px\n",
    "from jupyter_dash import JupyterDash\n",
    "import dash_core_components as dcc\n",
    "import dash_html_components as html\n",
    "import dash_bootstrap_components as dbc\n",
    "from dash.dependencies import Input, Output# Load Data\n",
    "\"\"\"\n",
    "import modules to do the calculation\n",
    "\"\"\"\n",
    "df = px.data.tips()# Build App\n",
    "app = JupyterDash(__name__)\n",
    "\n",
    "pam_names_arr = ['PAM 30', 'PAM 70', 'PAM 250']\n",
    "blosum_names_arr = ['BLOSUM 80', 'BLOSUM 62',\n",
    "                     'BLOSUM 45', 'BLOSUM 50', 'BLOSUM 90']\n",
    "\n",
    "app.layout = dbc.Container([\n",
    "    html.H1(\"PAM/BLOSUM protein sequence scorer\"),\n",
    "    html.Div([]),\n",
    "    html.P(\"Objective is to use the following matrices to score\\\n",
    "           similarities between 2 protein sequences \"),\n",
    "    \n",
    "    \n",
    "    dbc.Row([\n",
    "        dbc.Col([\n",
    "            html.H2(\"Enter Query Sequence\"),\n",
    "            dbc.FormGroup([\n",
    "                dbc.Label(\"Enter FASTA sequence(s)\")\n",
    "            ])])\n",
    "    ]\n",
    "    )])\n",
    "\n",
    "\n",
    "app.run_server(mode='inline')"
   ]
  },
  {
   "cell_type": "markdown",
   "metadata": {},
   "source": [
    "# Search NCBI for proteins by term and accession"
   ]
  },
  {
   "cell_type": "code",
   "execution_count": null,
   "metadata": {},
   "outputs": [],
   "source": [
    "#https://www.ncbi.nlm.nih.gov/dbvar/content/tools/entrez/"
   ]
  },
  {
   "cell_type": "code",
   "execution_count": 1,
   "metadata": {},
   "outputs": [],
   "source": [
    "from Bio import Entrez\n",
    "import xmltodict"
   ]
  },
  {
   "cell_type": "code",
   "execution_count": 2,
   "metadata": {},
   "outputs": [],
   "source": [
    "Entrez.email = \"kimn13@mytru.ca\"\n",
    "Entrez.tool = \"getProteinFastas\" #homologs later\n",
    "db = 'protein'\n",
    "paramEutils = {'usehistory': 'Y'}"
   ]
  },
  {
   "cell_type": "markdown",
   "metadata": {},
   "source": [
    "## get dictionary of list of db's"
   ]
  },
  {
   "cell_type": "code",
   "execution_count": 3,
   "metadata": {},
   "outputs": [
    {
     "data": {
      "text/plain": [
       "dict_keys(['DbList'])"
      ]
     },
     "execution_count": 3,
     "metadata": {},
     "output_type": "execute_result"
    }
   ],
   "source": [
    "handle = Entrez.einfo()\n",
    "record= Entrez.read(handle)\n",
    "record.keys()\n"
   ]
  },
  {
   "cell_type": "code",
   "execution_count": 4,
   "metadata": {},
   "outputs": [
    {
     "data": {
      "text/plain": [
       "['pubmed', 'protein', 'nuccore', 'ipg', 'nucleotide', 'structure', 'sparcle', 'protfam', 'genome', 'annotinfo', 'assembly', 'bioproject', 'biosample', 'blastdbinfo', 'books', 'cdd', 'clinvar', 'gap', 'gapplus', 'grasp', 'dbvar', 'gene', 'gds', 'geoprofiles', 'homologene', 'medgen', 'mesh', 'ncbisearch', 'nlmcatalog', 'omim', 'orgtrack', 'pmc', 'popset', 'proteinclusters', 'pcassay', 'biosystems', 'pccompound', 'pcsubstance', 'seqannot', 'snp', 'sra', 'taxonomy', 'biocollections', 'gtr']"
      ]
     },
     "execution_count": 4,
     "metadata": {},
     "output_type": "execute_result"
    }
   ],
   "source": [
    "record['DbList']"
   ]
  },
  {
   "cell_type": "code",
   "execution_count": 5,
   "metadata": {},
   "outputs": [
    {
     "name": "stdout",
     "output_type": "stream",
     "text": [
      "Protein sequence record\n",
      "885945187\n",
      "2020/11/18 12:01\n"
     ]
    }
   ],
   "source": [
    "# get more info about a db\n",
    "handle = Entrez.einfo(db='protein')\n",
    "record =Entrez.read(handle)\n",
    "print(record[\"DbInfo\"]['Description'])\n",
    "print(record['DbInfo']['Count'])\n",
    "print(record['DbInfo']['LastUpdate'])"
   ]
  },
  {
   "cell_type": "code",
   "execution_count": 14,
   "metadata": {},
   "outputs": [
    {
     "name": "stdout",
     "output_type": "stream",
     "text": [
      "ALL, All Fields, All terms from all searchable fields\n",
      "UID, UID, Unique number assigned to each sequence\n",
      "FILT, Filter, Limits the records\n",
      "WORD, Text Word, Free text associated with record\n",
      "TITL, Title, Words in definition line\n",
      "KYWD, Keyword, Nonstandardized terms provided by submitter\n",
      "AUTH, Author, Author(s) of publication\n",
      "JOUR, Journal, Journal abbreviation of publication\n",
      "VOL, Volume, Volume number of publication\n",
      "ISS, Issue, Issue number of publication\n",
      "PAGE, Page Number, Page number(s) of publication\n",
      "ORGN, Organism, Scientific and common names of organism, and all higher levels of taxonomy\n",
      "ACCN, Accession, Accession number of sequence\n",
      "PACC, Primary Accession, Does not include retired secondary accessions\n",
      "GENE, Gene Name, Name of gene associated with sequence\n",
      "PROT, Protein Name, Name of protein associated with sequence\n",
      "ECNO, EC/RN Number, EC number for enzyme or CAS registry number\n",
      "PDAT, Publication Date, Date sequence added to GenBank\n",
      "MDAT, Modification Date, Date of last update\n",
      "SUBS, Substance Name, CAS chemical name or MEDLINE Substance Name\n",
      "PROP, Properties, Classification by source qualifiers and molecule type\n",
      "SQID, SeqID String, String identifier for sequence\n",
      "GPRJ, BioProject, BioProject\n",
      "SLEN, Sequence Length, Length of sequence\n",
      "MLWT, Molecular Weight, Molecular Weight\n",
      "FKEY, Feature key, Feature annotated on sequence\n",
      "PORG, Primary Organism, Scientific and common names of primary organism, and all higher levels of taxonomy\n",
      "ASSM, Assembly, Assembly\n",
      "DIV, Division, Division\n",
      "STRN, Strain, Strain\n",
      "ISOL, Isolate, Isolate\n",
      "CULT, Cultivar, Cultivar\n",
      "BRD, Breed, Breed\n"
     ]
    }
   ],
   "source": [
    "#other info in the record\n",
    "for field in record[\"DbInfo\"][\"FieldList\"]:\n",
    "    print(\"%(Name)s, %(FullName)s, %(Description)s\" % field)"
   ]
  },
  {
   "cell_type": "code",
   "execution_count": 70,
   "metadata": {},
   "outputs": [],
   "source": [
    "#search by ACCN\n",
    "# get FASTA\n",
    "fasta = Entrez.efetch(db='protein', id='NP_001128711.1', rettype='fasta', retmode='text')\n",
    "# get info\n",
    "gb = Entrez.efetch(db='protein', id='NP_001128711.1', rettype='gb', retmode='text')"
   ]
  },
  {
   "cell_type": "code",
   "execution_count": 71,
   "metadata": {},
   "outputs": [
    {
     "name": "stdout",
     "output_type": "stream",
     "text": [
      "fasta>NP_001128711.1 L-lactate dehydrogenase A chain isoform 2 [Homo sapiens]\n",
      "MATLKDQLIYNLLKEEQTPQNKITVVGVGAVGMACAISILMKDLADELALVDVIEDKLKGEMMDLQHGSL\n",
      "FLRTPKIVSGKVDILTYVAWKISGFPKNRVIGSGCNLDSARFRYLMGERLGVHPLSCHGWVLGEHGDSSV\n",
      "PVWSGMNVAGVSLKTLHPDLGTDKDKEQWKEVHKQVVESAYEVIKLKGYTSWAIGLSVADLAESIMKNLR\n",
      "RVHPVSTMIKGLYGIKDDVFLSVPCILGQNGISDLVKVTLTSEEEARLKKSADTLWGIQKELQF\n",
      "\n",
      "\n",
      "<class 'str'>\n"
     ]
    }
   ],
   "source": [
    "demo_fasta = fasta.read()\n",
    "print(f'{demo_fasta}')\n",
    "print(type(demo_fasta))\n",
    "demo_gb = gb.read()\n",
    "#print(f'gb: {demo_gb}')\n",
    "#print(type(demo_gb))"
   ]
  },
  {
   "cell_type": "code",
   "execution_count": 56,
   "metadata": {},
   "outputs": [],
   "source": [
    "#search by term\n",
    "#eSearch = Entrez.esearch(db=db,term='lactate[WORD] AND mus musculus[ORGN]', idtype=\"acc\")\n",
    "eSearch = Entrez.esearch(db=db, term='l-lactate[WORD] AND homo sapiens[ORGN]', idtype='acc')"
   ]
  },
  {
   "cell_type": "code",
   "execution_count": 57,
   "metadata": {},
   "outputs": [
    {
     "name": "stdout",
     "output_type": "stream",
     "text": [
      "Count = 324\n",
      "RetMax = 20\n",
      "RetStart = 0\n",
      "IdList = ['NP_001159968.1', 'NP_003042.3', '6Q13_D', '6Q13_C', '6Q13_B', '6Q13_A', '6Q0D_F', '6Q0D_E', '6Q0D_D', '6Q0D_C', '6Q0D_B', '6Q0D_A', 'NP_001167568.1', 'NP_001158888.1', 'NP_001158887.1', 'NP_001158886.1', 'NP_001128711.1', 'NP_919417.1', 'NP_705690.2', 'NP_059144.1']\n",
      "TranslationSet = [{'From': 'homo sapiens[ORGN]', 'To': '\"Homo sapiens\"[Organism]'}]\n",
      "TranslationStack = [{'Term': 'l-lactate[WORD]', 'Field': 'WORD', 'Count': '544889', 'Explode': 'N'}, {'Term': '\"Homo sapiens\"[Organism]', 'Field': 'Organism', 'Count': '1426725', 'Explode': 'Y'}, 'AND']\n",
      "QueryTranslation = l-lactate[WORD] AND \"Homo sapiens\"[Organism]\n"
     ]
    }
   ],
   "source": [
    "# get results as dict\n",
    "res = Entrez.read(eSearch)\n",
    "for k in res:\n",
    "    print(k, \"=\", res[k])\n"
   ]
  },
  {
   "cell_type": "code",
   "execution_count": 58,
   "metadata": {},
   "outputs": [
    {
     "data": {
      "text/plain": [
       "'l-lactate[WORD] AND \"Homo sapiens\"[Organism]'"
      ]
     },
     "execution_count": 58,
     "metadata": {},
     "output_type": "execute_result"
    }
   ],
   "source": [
    "res['QueryTranslation']"
   ]
  },
  {
   "cell_type": "markdown",
   "metadata": {},
   "source": [
    "### remember that paramEUtils has retmax for num records but don't need paramEUtils unless to set retmax\n"
   ]
  },
  {
   "cell_type": "code",
   "execution_count": 7,
   "metadata": {},
   "outputs": [],
   "source": [
    "eSearch = Entrez.esearch(db=db,term='lactate[WORD] AND mus musculus[ORGN]', idtype=\"acc\", **paramEutils)"
   ]
  },
  {
   "cell_type": "code",
   "execution_count": 54,
   "metadata": {},
   "outputs": [
    {
     "name": "stdout",
     "output_type": "stream",
     "text": [
      "Count = 248\n",
      "RetMax = 20\n",
      "RetStart = 0\n",
      "QueryKey = 4\n",
      "WebEnv = MCID_5fa592044e76ef26396680f4\n",
      "IdList = ['NP_001300849.1', 'NP_001300848.1', 'NP_034561.2', 'NP_001028488.1', 'NP_766232.1', 'NP_032836.1', 'NP_780729.3', 'NP_001171275.1', 'NP_001129541.2', 'NP_001120823.1', 'NP_071878.2', 'NP_031833.3', 'NP_032620.2', 'NP_001038954.1', 'NP_663398.2', 'NP_001033743.1', 'NP_001033742.1', 'NP_109621.1', 'NP_059068.1', 'NP_038848.1']\n",
      "TranslationSet = [{'From': 'mus musculus[ORGN]', 'To': '\"Mus musculus\"[Organism]'}]\n",
      "TranslationStack = ['GROUP', {'Term': 'lactate[WORD]', 'Field': 'WORD', 'Count': '957836', 'Explode': 'N'}, 'AND', {'Term': '\"Mus musculus\"[Organism]', 'Field': 'Organism', 'Count': '342504', 'Explode': 'Y'}, 'AND']\n",
      "QueryTranslation = (#3) AND lactate[WORD] AND \"Mus musculus\"[Organism]\n"
     ]
    }
   ],
   "source": [
    "# get results as dict\n",
    "res = Entrez.read(eSearch)\n",
    "for k in res:\n",
    "    print(k, \"=\", res[k])"
   ]
  },
  {
   "cell_type": "code",
   "execution_count": 55,
   "metadata": {},
   "outputs": [],
   "source": [
    "paramEutils['WebEnv'] = res['WebEnv']\n",
    "paramEutils['query_key'] = res['QueryKey']\n",
    "paramEutils['rettype']='xml'\n",
    "paramEutils['retstart']=0\n",
    "paramEutils['retmax']=20"
   ]
  },
  {
   "cell_type": "code",
   "execution_count": 47,
   "metadata": {},
   "outputs": [
    {
     "data": {
      "text/plain": [
       "['NP_032620.2', 'NP_001038954.1', 'NP_001033743.1', 'NP_001033742.1', 'NP_109621.1', 'NP_059068.1', 'NP_001300849.1', 'NP_001300848.1', 'NP_034561.2', 'NP_001028488.1', 'NP_766232.1', 'NP_032836.1', 'NP_780729.3', 'NP_001171275.1', 'NP_001129541.2', 'NP_001120823.1', 'NP_071878.2', 'NP_031833.3', 'NP_663398.2', 'NP_034829.1']"
      ]
     },
     "execution_count": 47,
     "metadata": {},
     "output_type": "execute_result"
    }
   ],
   "source": [
    "#try using eFetch\n",
    "accession_arr = res['IdList']\n",
    "accession_arr"
   ]
  },
  {
   "cell_type": "markdown",
   "metadata": {},
   "source": [
    "# get Fasta Sequence\n"
   ]
  },
  {
   "cell_type": "code",
   "execution_count": 42,
   "metadata": {},
   "outputs": [],
   "source": [
    "# get FASTA\n",
    "fasta_handle = Entrez.efetch(db='protein', id=accession_arr[0], rettype='fasta', retmode='text')\n",
    "# get info\n",
    "#handle = Entrez.efetch(db='protein', id=accession_arr[0], rettype='gb', retmode='text')"
   ]
  },
  {
   "cell_type": "code",
   "execution_count": 43,
   "metadata": {},
   "outputs": [
    {
     "name": "stdout",
     "output_type": "stream",
     "text": [
      "ID: NP_032620.2\n",
      "Name: NP_032620.2\n",
      "Description: NP_032620.2 lactadherin isoform 1 precursor [Mus musculus]\n",
      "Number of features: 0\n",
      "Seq('MQVSRVLAALCGMLLCASGLFAASGDFCDSSLCLNGGTCLTGQDNDIYCLCPEG...LGC')\n",
      "<class 'Bio.SeqRecord.SeqRecord'>\n"
     ]
    }
   ],
   "source": [
    "# read as Fasta\n",
    "from Bio import SeqIO\n",
    "rec_fasta = SeqIO.read(fasta_handle, \"fasta\")\n",
    "#fasta_handle.close()\n",
    "print(rec_fasta)\n",
    "print(type(rec_fasta))"
   ]
  },
  {
   "cell_type": "code",
   "execution_count": 44,
   "metadata": {},
   "outputs": [
    {
     "data": {
      "text/plain": [
       "Seq('MQVSRVLAALCGMLLCASGLFAASGDFCDSSLCLNGGTCLTGQDNDIYCLCPEG...LGC')"
      ]
     },
     "execution_count": 44,
     "metadata": {},
     "output_type": "execute_result"
    }
   ],
   "source": [
    "rec_fasta.seq"
   ]
  },
  {
   "cell_type": "code",
   "execution_count": 46,
   "metadata": {},
   "outputs": [
    {
     "name": "stdout",
     "output_type": "stream",
     "text": [
      "MQVSRVLAALCGMLLCASGLFAASGDFCDSSLCLNGGTCLTGQDNDIYCLCPEGFTGLVCNETERGPCSPNPCYNDAKCLVTLDTQRGDIFTEYICQCPVGYSGIHCETETNYYNLDGEYMFTTAVPNTAVPTPAPTPDLSNNLASRCSTQLGMEGGAIADSQISASSVYMGFMGLQRWGPELARLYRTGIVNAWTASNYDSKPWIQVNLLRKMRVSGVMTQGASRAGRAEYLKTFKVAYSLDGRKFEFIQDESGGDKEFLGNLDNNSLKVNMFNPTLEAQYIKLYPVSCHRGCTLRFELLGCELHGCSEPLGLKNNTIPDSQMSASSSYKTWNLRAFGWYPHLGRLDNQGKINAWTAQSNSAKEWLQVDLGTQRQVTGIITQGARDFGHIQYVASYKVAHSDDGVQWTVYEEQGSSKVFQGNLDNNSHKKNIFEKPFMARYVRVLPVSWHNRITLRLELLGC\n"
     ]
    }
   ],
   "source": [
    "\n",
    "seq_str = str(rec_fasta.seq)\n",
    "print(seq_str)"
   ]
  },
  {
   "cell_type": "code",
   "execution_count": 36,
   "metadata": {},
   "outputs": [
    {
     "name": "stdout",
     "output_type": "stream",
     "text": [
      ">NP_032620.2 lactadherin isoform 1 precursor [Mus musculus]\n",
      "MQVSRVLAALCGMLLCASGLFAASGDFCDSSLCLNGGTCLTGQDNDIYCLCPEGFTGLVC\n",
      "NETERGPCSPNPCYNDAKCLVTLDTQRGDIFTEYICQCPVGYSGIHCETETNYYNLDGEY\n",
      "MFTTAVPNTAVPTPAPTPDLSNNLASRCSTQLGMEGGAIADSQISASSVYMGFMGLQRWG\n",
      "PELARLYRTGIVNAWTASNYDSKPWIQVNLLRKMRVSGVMTQGASRAGRAEYLKTFKVAY\n",
      "SLDGRKFEFIQDESGGDKEFLGNLDNNSLKVNMFNPTLEAQYIKLYPVSCHRGCTLRFEL\n",
      "LGCELHGCSEPLGLKNNTIPDSQMSASSSYKTWNLRAFGWYPHLGRLDNQGKINAWTAQS\n",
      "NSAKEWLQVDLGTQRQVTGIITQGARDFGHIQYVASYKVAHSDDGVQWTVYEEQGSSKVF\n",
      "QGNLDNNSHKKNIFEKPFMARYVRVLPVSWHNRITLRLELLGC\n",
      "\n"
     ]
    }
   ],
   "source": [
    "rec_fasta = rec_fasta.format(\"fasta\")\n",
    "print(rec_fasta)"
   ]
  },
  {
   "cell_type": "code",
   "execution_count": 23,
   "metadata": {},
   "outputs": [
    {
     "name": "stdout",
     "output_type": "stream",
     "text": [
      "NP_032620.2\n",
      "NP_032620\n",
      "lactadherin isoform 1 precursor [Mus musculus]\n",
      "17\n"
     ]
    }
   ],
   "source": [
    "from Bio import SeqIO\n",
    "record = SeqIO.read(handle, \"genbank\")\n",
    "handle.close()\n",
    "print(record.id)\n",
    "print(record.name)\n",
    "print(record.description)\n",
    "print(len(record.features))\n"
   ]
  },
  {
   "cell_type": "code",
   "execution_count": 24,
   "metadata": {},
   "outputs": [
    {
     "name": "stdout",
     "output_type": "stream",
     "text": [
      "MQVSRVLAALCGMLLCASGLFAASGDFCDSSLCLNGGTCLTGQDNDIYCLCPEGFTGLVCNETERGPCSPNPCYNDAKCLVTLDTQRGDIFTEYICQCPVGYSGIHCETETNYYNLDGEYMFTTAVPNTAVPTPAPTPDLSNNLASRCSTQLGMEGGAIADSQISASSVYMGFMGLQRWGPELARLYRTGIVNAWTASNYDSKPWIQVNLLRKMRVSGVMTQGASRAGRAEYLKTFKVAYSLDGRKFEFIQDESGGDKEFLGNLDNNSLKVNMFNPTLEAQYIKLYPVSCHRGCTLRFELLGCELHGCSEPLGLKNNTIPDSQMSASSSYKTWNLRAFGWYPHLGRLDNQGKINAWTAQSNSAKEWLQVDLGTQRQVTGIITQGARDFGHIQYVASYKVAHSDDGVQWTVYEEQGSSKVFQGNLDNNSHKKNIFEKPFMARYVRVLPVSWHNRITLRLELLGC\n",
      "string version:\n",
      " MQVSRVLAALCGMLLCASGLFAASGDFCDSSLCLNGGTCLTGQDNDIYCLCPEGFTGLVCNETERGPCSPNPCYNDAKCLVTLDTQRGDIFTEYICQCPVGYSGIHCETETNYYNLDGEYMFTTAVPNTAVPTPAPTPDLSNNLASRCSTQLGMEGGAIADSQISASSVYMGFMGLQRWGPELARLYRTGIVNAWTASNYDSKPWIQVNLLRKMRVSGVMTQGASRAGRAEYLKTFKVAYSLDGRKFEFIQDESGGDKEFLGNLDNNSLKVNMFNPTLEAQYIKLYPVSCHRGCTLRFELLGCELHGCSEPLGLKNNTIPDSQMSASSSYKTWNLRAFGWYPHLGRLDNQGKINAWTAQSNSAKEWLQVDLGTQRQVTGIITQGARDFGHIQYVASYKVAHSDDGVQWTVYEEQGSSKVFQGNLDNNSHKKNIFEKPFMARYVRVLPVSWHNRITLRLELLGC\n"
     ]
    }
   ],
   "source": [
    "#print sequence from above record\n",
    "print(record.seq)\n",
    "#cast to string\n",
    "seq_str = str(record.seq)\n",
    "print(f'string version:\\n {seq_str}')"
   ]
  },
  {
   "cell_type": "markdown",
   "metadata": {},
   "source": [
    "# search for homologs"
   ]
  },
  {
   "cell_type": "code",
   "execution_count": 64,
   "metadata": {},
   "outputs": [
    {
     "name": "stdout",
     "output_type": "stream",
     "text": [
      "Count = 1\n",
      "RetMax = 1\n",
      "RetStart = 0\n",
      "IdList = ['82482']\n",
      "TranslationSet = []\n",
      "TranslationStack = [{'Term': 'NP_001028488.1[All Fields]', 'Field': 'All Fields', 'Count': '1', 'Explode': 'N'}, 'GROUP']\n",
      "QueryTranslation = NP_001028488.1[All Fields]\n"
     ]
    }
   ],
   "source": [
    "accn = accession_arr[3]\n",
    "homolog_db = 'homologene'\n",
    "homologs_dict = {}\n",
    "#for accn in accession_arr:\n",
    "homologSearch = Entrez.esearch(db=homolog_db,term=str(accn), idtype=\"acc\")# **paramEutils)\n",
    "#homologs_dict[accn] = \n",
    "# get results as dict\n",
    "homolog_res = Entrez.read(homologSearch)\n",
    "for k in homolog_res:\n",
    "    print(k, \"=\", homolog_res[k])"
   ]
  },
  {
   "cell_type": "code",
   "execution_count": null,
   "metadata": {},
   "outputs": [],
   "source": []
  },
  {
   "cell_type": "code",
   "execution_count": null,
   "metadata": {},
   "outputs": [],
   "source": []
  },
  {
   "cell_type": "code",
   "execution_count": null,
   "metadata": {},
   "outputs": [],
   "source": []
  },
  {
   "cell_type": "code",
   "execution_count": 27,
   "metadata": {},
   "outputs": [],
   "source": [
    "#generate request to Entrez eSummary\n",
    "result=Entrez.esummary(db=db, **paramEutils)"
   ]
  },
  {
   "cell_type": "code",
   "execution_count": 28,
   "metadata": {
    "scrolled": true
   },
   "outputs": [
    {
     "name": "stdout",
     "output_type": "stream",
     "text": [
      "b'<?xml version=\"1.0\" encoding=\"UTF-8\" ?>\\n<!DOCTYPE eSummaryResult PUBLIC \"-//NLM//DTD esummary v1 20041029//EN\" \"https://eutils.ncbi.nlm.nih.gov/eutils/dtd/20041029/esummary-v1.dtd\">\\n<eSummaryResult>\\n<DocSum>\\n\\t<Id>927028883</Id>\\n\\t<Item Name=\"Caption\" Type=\"String\">NP_001300849</Item>\\n\\t<Item Name=\"Title\" Type=\"String\">hypoxia-inducible factor 1-alpha isoform 3 [Mus musculus]</Item>\\n\\t<Item Name=\"Extra\" Type=\"String\">gi|927028883|ref|NP_001300849.1|[927028883]</Item>\\n\\t<Item Name=\"Gi\" Type=\"Integer\">927028883</Item>\\n\\t<Item Name=\"CreateDate\" Type=\"String\">2015/09/11</Item>\\n\\t<Item Name=\"UpdateDate\" Type=\"String\">2020/11/01</Item>\\n\\t<Item Name=\"Flags\" Type=\"Integer\">512</Item>\\n\\t<Item Name=\"TaxId\" Type=\"Integer\">10090</Item>\\n\\t<Item Name=\"Length\" Type=\"Integer\">810</Item>\\n\\t<Item Name=\"Status\" Type=\"String\">live</Item>\\n\\t<Item Name=\"ReplacedBy\" Type=\"String\"></Item>\\n\\t<Item Name=\"Comment\" Type=\"String\"><![CDATA[  ]]></Item>\\n\\t<Item Name=\"AccessionVersion\" Type=\"String\">NP_001300849.1</Item>\\n</DocSum>\\n\\n<DocSum>\\n\\t<Id>927028881</Id>\\n\\t<Item Name=\"Caption\" Type=\"String\">NP_001300848</Item>\\n\\t<Item Name=\"Title\" Type=\"String\">hypoxia-inducible factor 1-alpha isoform 1 [Mus musculus]</Item>\\n\\t<Item Name=\"Extra\" Type=\"String\">gi|927028881|ref|NP_001300848.1|[927028881]</Item>\\n\\t<Item Name=\"Gi\" Type=\"Integer\">927028881</Item>\\n\\t<Item Name=\"CreateDate\" Type=\"String\">2015/09/11</Item>\\n\\t<Item Name=\"UpdateDate\" Type=\"String\">2020/11/01</Item>\\n\\t<Item Name=\"Flags\" Type=\"Integer\">512</Item>\\n\\t<Item Name=\"TaxId\" Type=\"Integer\">10090</Item>\\n\\t<Item Name=\"Length\" Type=\"Integer\">837</Item>\\n\\t<Item Name=\"Status\" Type=\"String\">live</Item>\\n\\t<Item Name=\"ReplacedBy\" Type=\"String\"></Item>\\n\\t<Item Name=\"Comment\" Type=\"String\"><![CDATA[  ]]></Item>\\n\\t<Item Name=\"AccessionVersion\" Type=\"String\">NP_001300848.1</Item>\\n</DocSum>\\n\\n<DocSum>\\n\\t<Id>226061948</Id>\\n\\t<Item Name=\"Caption\" Type=\"String\">NP_034561</Item>\\n\\t<Item Name=\"Title\" Type=\"String\">hypoxia-inducible factor 1-alpha isoform 2 [Mus musculus]</Item>\\n\\t<Item Name=\"Extra\" Type=\"String\">gi|226061948|ref|NP_034561.2|[226061948]</Item>\\n\\t<Item Name=\"Gi\" Type=\"Integer\">226061948</Item>\\n\\t<Item Name=\"CreateDate\" Type=\"String\">2000/03/31</Item>\\n\\t<Item Name=\"UpdateDate\" Type=\"String\">2020/11/01</Item>\\n\\t<Item Name=\"Flags\" Type=\"Integer\">512</Item>\\n\\t<Item Name=\"TaxId\" Type=\"Integer\">10090</Item>\\n\\t<Item Name=\"Length\" Type=\"Integer\">836</Item>\\n\\t<Item Name=\"Status\" Type=\"String\">live</Item>\\n\\t<Item Name=\"ReplacedBy\" Type=\"String\"></Item>\\n\\t<Item Name=\"Comment\" Type=\"String\"><![CDATA[  ]]></Item>\\n\\t<Item Name=\"AccessionVersion\" Type=\"String\">NP_034561.2</Item>\\n</DocSum>\\n\\n<DocSum>\\n\\t<Id>85701812</Id>\\n\\t<Item Name=\"Caption\" Type=\"String\">NP_001028488</Item>\\n\\t<Item Name=\"Title\" Type=\"String\">free fatty acid receptor 3 [Mus musculus]</Item>\\n\\t<Item Name=\"Extra\" Type=\"String\">gi|85701812|ref|NP_001028488.1|[85701812]</Item>\\n\\t<Item Name=\"Gi\" Type=\"Integer\">85701812</Item>\\n\\t<Item Name=\"CreateDate\" Type=\"String\">2006/01/25</Item>\\n\\t<Item Name=\"UpdateDate\" Type=\"String\">2020/11/01</Item>\\n\\t<Item Name=\"Flags\" Type=\"Integer\">512</Item>\\n\\t<Item Name=\"TaxId\" Type=\"Integer\">10090</Item>\\n\\t<Item Name=\"Length\" Type=\"Integer\">319</Item>\\n\\t<Item Name=\"Status\" Type=\"String\">live</Item>\\n\\t<Item Name=\"ReplacedBy\" Type=\"String\"></Item>\\n\\t<Item Name=\"Comment\" Type=\"String\"><![CDATA[  ]]></Item>\\n\\t<Item Name=\"AccessionVersion\" Type=\"String\">NP_001028488.1</Item>\\n</DocSum>\\n\\n<DocSum>\\n\\t<Id>27369928</Id>\\n\\t<Item Name=\"Caption\" Type=\"String\">NP_766232</Item>\\n\\t<Item Name=\"Title\" Type=\"String\">aspartate--tRNA ligase, mitochondrial precursor [Mus musculus]</Item>\\n\\t<Item Name=\"Extra\" Type=\"String\">gi|27369928|ref|NP_766232.1|[27369928]</Item>\\n\\t<Item Name=\"Gi\" Type=\"Integer\">27369928</Item>\\n\\t<Item Name=\"CreateDate\" Type=\"String\">2002/12/24</Item>\\n\\t<Item Name=\"UpdateDate\" Type=\"String\">2020/11/01</Item>\\n\\t<Item Name=\"Flags\" Type=\"Integer\">512</Item>\\n\\t<Item Name=\"TaxId\" Type=\"Integer\">10090</Item>\\n\\t<Item Name=\"Length\" Type=\"Integer\">653</Item>\\n\\t<Item Name=\"Status\" Type=\"String\">live</Item>\\n\\t<Item Name=\"ReplacedBy\" Type=\"String\"></Item>\\n\\t<Item Name=\"Comment\" Type=\"String\"><![CDATA[  ]]></Item>\\n\\t<Item Name=\"AccessionVersion\" Type=\"String\">NP_766232.1</Item>\\n</DocSum>\\n\\n</eSummaryResult>\\n'\n"
     ]
    }
   ],
   "source": [
    "#get json results\n",
    "xml_res = result.read()\n",
    "print(xml_res)"
   ]
  },
  {
   "cell_type": "code",
   "execution_count": 36,
   "metadata": {},
   "outputs": [
    {
     "name": "stdout",
     "output_type": "stream",
     "text": [
      "eSummaryResult: OrderedDict([('DocSum', [OrderedDict([('Id', '927028883'), ('Item', [OrderedDict([('@Name', 'Caption'), ('@Type', 'String'), ('#text', 'NP_001300849')]), OrderedDict([('@Name', 'Title'), ('@Type', 'String'), ('#text', 'hypoxia-inducible factor 1-alpha isoform 3 [Mus musculus]')]), OrderedDict([('@Name', 'Extra'), ('@Type', 'String'), ('#text', 'gi|927028883|ref|NP_001300849.1|[927028883]')]), OrderedDict([('@Name', 'Gi'), ('@Type', 'Integer'), ('#text', '927028883')]), OrderedDict([('@Name', 'CreateDate'), ('@Type', 'String'), ('#text', '2015/09/11')]), OrderedDict([('@Name', 'UpdateDate'), ('@Type', 'String'), ('#text', '2020/11/01')]), OrderedDict([('@Name', 'Flags'), ('@Type', 'Integer'), ('#text', '512')]), OrderedDict([('@Name', 'TaxId'), ('@Type', 'Integer'), ('#text', '10090')]), OrderedDict([('@Name', 'Length'), ('@Type', 'Integer'), ('#text', '810')]), OrderedDict([('@Name', 'Status'), ('@Type', 'String'), ('#text', 'live')]), OrderedDict([('@Name', 'ReplacedBy'), ('@Type', 'String')]), OrderedDict([('@Name', 'Comment'), ('@Type', 'String')]), OrderedDict([('@Name', 'AccessionVersion'), ('@Type', 'String'), ('#text', 'NP_001300849.1')])])]), OrderedDict([('Id', '927028881'), ('Item', [OrderedDict([('@Name', 'Caption'), ('@Type', 'String'), ('#text', 'NP_001300848')]), OrderedDict([('@Name', 'Title'), ('@Type', 'String'), ('#text', 'hypoxia-inducible factor 1-alpha isoform 1 [Mus musculus]')]), OrderedDict([('@Name', 'Extra'), ('@Type', 'String'), ('#text', 'gi|927028881|ref|NP_001300848.1|[927028881]')]), OrderedDict([('@Name', 'Gi'), ('@Type', 'Integer'), ('#text', '927028881')]), OrderedDict([('@Name', 'CreateDate'), ('@Type', 'String'), ('#text', '2015/09/11')]), OrderedDict([('@Name', 'UpdateDate'), ('@Type', 'String'), ('#text', '2020/11/01')]), OrderedDict([('@Name', 'Flags'), ('@Type', 'Integer'), ('#text', '512')]), OrderedDict([('@Name', 'TaxId'), ('@Type', 'Integer'), ('#text', '10090')]), OrderedDict([('@Name', 'Length'), ('@Type', 'Integer'), ('#text', '837')]), OrderedDict([('@Name', 'Status'), ('@Type', 'String'), ('#text', 'live')]), OrderedDict([('@Name', 'ReplacedBy'), ('@Type', 'String')]), OrderedDict([('@Name', 'Comment'), ('@Type', 'String')]), OrderedDict([('@Name', 'AccessionVersion'), ('@Type', 'String'), ('#text', 'NP_001300848.1')])])]), OrderedDict([('Id', '226061948'), ('Item', [OrderedDict([('@Name', 'Caption'), ('@Type', 'String'), ('#text', 'NP_034561')]), OrderedDict([('@Name', 'Title'), ('@Type', 'String'), ('#text', 'hypoxia-inducible factor 1-alpha isoform 2 [Mus musculus]')]), OrderedDict([('@Name', 'Extra'), ('@Type', 'String'), ('#text', 'gi|226061948|ref|NP_034561.2|[226061948]')]), OrderedDict([('@Name', 'Gi'), ('@Type', 'Integer'), ('#text', '226061948')]), OrderedDict([('@Name', 'CreateDate'), ('@Type', 'String'), ('#text', '2000/03/31')]), OrderedDict([('@Name', 'UpdateDate'), ('@Type', 'String'), ('#text', '2020/11/01')]), OrderedDict([('@Name', 'Flags'), ('@Type', 'Integer'), ('#text', '512')]), OrderedDict([('@Name', 'TaxId'), ('@Type', 'Integer'), ('#text', '10090')]), OrderedDict([('@Name', 'Length'), ('@Type', 'Integer'), ('#text', '836')]), OrderedDict([('@Name', 'Status'), ('@Type', 'String'), ('#text', 'live')]), OrderedDict([('@Name', 'ReplacedBy'), ('@Type', 'String')]), OrderedDict([('@Name', 'Comment'), ('@Type', 'String')]), OrderedDict([('@Name', 'AccessionVersion'), ('@Type', 'String'), ('#text', 'NP_034561.2')])])]), OrderedDict([('Id', '85701812'), ('Item', [OrderedDict([('@Name', 'Caption'), ('@Type', 'String'), ('#text', 'NP_001028488')]), OrderedDict([('@Name', 'Title'), ('@Type', 'String'), ('#text', 'free fatty acid receptor 3 [Mus musculus]')]), OrderedDict([('@Name', 'Extra'), ('@Type', 'String'), ('#text', 'gi|85701812|ref|NP_001028488.1|[85701812]')]), OrderedDict([('@Name', 'Gi'), ('@Type', 'Integer'), ('#text', '85701812')]), OrderedDict([('@Name', 'CreateDate'), ('@Type', 'String'), ('#text', '2006/01/25')]), OrderedDict([('@Name', 'UpdateDate'), ('@Type', 'String'), ('#text', '2020/11/01')]), OrderedDict([('@Name', 'Flags'), ('@Type', 'Integer'), ('#text', '512')]), OrderedDict([('@Name', 'TaxId'), ('@Type', 'Integer'), ('#text', '10090')]), OrderedDict([('@Name', 'Length'), ('@Type', 'Integer'), ('#text', '319')]), OrderedDict([('@Name', 'Status'), ('@Type', 'String'), ('#text', 'live')]), OrderedDict([('@Name', 'ReplacedBy'), ('@Type', 'String')]), OrderedDict([('@Name', 'Comment'), ('@Type', 'String')]), OrderedDict([('@Name', 'AccessionVersion'), ('@Type', 'String'), ('#text', 'NP_001028488.1')])])]), OrderedDict([('Id', '27369928'), ('Item', [OrderedDict([('@Name', 'Caption'), ('@Type', 'String'), ('#text', 'NP_766232')]), OrderedDict([('@Name', 'Title'), ('@Type', 'String'), ('#text', 'aspartate--tRNA ligase, mitochondrial precursor [Mus musculus]')]), OrderedDict([('@Name', 'Extra'), ('@Type', 'String'), ('#text', 'gi|27369928|ref|NP_766232.1|[27369928]')]), OrderedDict([('@Name', 'Gi'), ('@Type', 'Integer'), ('#text', '27369928')]), OrderedDict([('@Name', 'CreateDate'), ('@Type', 'String'), ('#text', '2002/12/24')]), OrderedDict([('@Name', 'UpdateDate'), ('@Type', 'String'), ('#text', '2020/11/01')]), OrderedDict([('@Name', 'Flags'), ('@Type', 'Integer'), ('#text', '512')]), OrderedDict([('@Name', 'TaxId'), ('@Type', 'Integer'), ('#text', '10090')]), OrderedDict([('@Name', 'Length'), ('@Type', 'Integer'), ('#text', '653')]), OrderedDict([('@Name', 'Status'), ('@Type', 'String'), ('#text', 'live')]), OrderedDict([('@Name', 'ReplacedBy'), ('@Type', 'String')]), OrderedDict([('@Name', 'Comment'), ('@Type', 'String')]), OrderedDict([('@Name', 'AccessionVersion'), ('@Type', 'String'), ('#text', 'NP_766232.1')])])])])])\n"
     ]
    }
   ],
   "source": [
    "#convert xml to dict\n",
    "dsdocs = xmltodict.parse(xml_res)\n",
    "for k,v in dsdocs.items():\n",
    "    print(f'{k}: {v}')"
   ]
  },
  {
   "cell_type": "code",
   "execution_count": 35,
   "metadata": {},
   "outputs": [
    {
     "ename": "KeyError",
     "evalue": "'DocumentSummarySet'",
     "output_type": "error",
     "traceback": [
      "\u001b[0;31m---------------------------------------------------------------------------\u001b[0m",
      "\u001b[0;31mKeyError\u001b[0m                                  Traceback (most recent call last)",
      "\u001b[0;32m<ipython-input-35-be9c80362590>\u001b[0m in \u001b[0;36m<module>\u001b[0;34m\u001b[0m\n\u001b[0;32m----> 1\u001b[0;31m \u001b[0;32mfor\u001b[0m \u001b[0mds\u001b[0m \u001b[0;32min\u001b[0m \u001b[0mdsdocs\u001b[0m\u001b[0;34m[\u001b[0m\u001b[0;34m'eSummaryResult'\u001b[0m\u001b[0;34m]\u001b[0m\u001b[0;34m[\u001b[0m\u001b[0;34m'DocumentSummarySet'\u001b[0m\u001b[0;34m]\u001b[0m\u001b[0;34m[\u001b[0m\u001b[0;34m'DocumentSummary'\u001b[0m\u001b[0;34m]\u001b[0m\u001b[0;34m:\u001b[0m\u001b[0;34m\u001b[0m\u001b[0;34m\u001b[0m\u001b[0m\n\u001b[0m\u001b[1;32m      2\u001b[0m     \u001b[0;32mfor\u001b[0m \u001b[0mp\u001b[0m \u001b[0;32min\u001b[0m \u001b[0mds\u001b[0m\u001b[0;34m[\u001b[0m\u001b[0;34m'dbVarPlacementList'\u001b[0m\u001b[0;34m]\u001b[0m\u001b[0;34m[\u001b[0m\u001b[0;34m'dbVarPlacement'\u001b[0m\u001b[0;34m]\u001b[0m\u001b[0;34m:\u001b[0m\u001b[0;34m\u001b[0m\u001b[0;34m\u001b[0m\u001b[0m\n\u001b[1;32m      3\u001b[0m         \u001b[0mprint\u001b[0m\u001b[0;34m(\u001b[0m\u001b[0mds\u001b[0m\u001b[0;34m[\u001b[0m\u001b[0;34m'@uid'\u001b[0m\u001b[0;34m]\u001b[0m\u001b[0;34m,\u001b[0m \u001b[0mds\u001b[0m\u001b[0;34m[\u001b[0m\u001b[0;34m'ST'\u001b[0m\u001b[0;34m]\u001b[0m\u001b[0;34m,\u001b[0m \u001b[0mds\u001b[0m\u001b[0;34m[\u001b[0m\u001b[0;34m'SV'\u001b[0m\u001b[0;34m]\u001b[0m\u001b[0;34m,\u001b[0m \u001b[0mp\u001b[0m\u001b[0;34m[\u001b[0m\u001b[0;34m'Chr'\u001b[0m\u001b[0;34m]\u001b[0m\u001b[0;34m,\u001b[0m \u001b[0mp\u001b[0m\u001b[0;34m[\u001b[0m\u001b[0;34m'Chr_start'\u001b[0m\u001b[0;34m]\u001b[0m\u001b[0;34m,\u001b[0m\u001b[0mp\u001b[0m\u001b[0;34m[\u001b[0m\u001b[0;34m'Chr_end'\u001b[0m\u001b[0;34m]\u001b[0m\u001b[0;34m,\u001b[0m \u001b[0mp\u001b[0m\u001b[0;34m[\u001b[0m\u001b[0;34m'Chr_inner_start'\u001b[0m\u001b[0;34m]\u001b[0m\u001b[0;34m,\u001b[0m\u001b[0mp\u001b[0m\u001b[0;34m[\u001b[0m\u001b[0;34m'Chr_inner_end'\u001b[0m\u001b[0;34m]\u001b[0m\u001b[0;34m)\u001b[0m\u001b[0;34m\u001b[0m\u001b[0;34m\u001b[0m\u001b[0m\n",
      "\u001b[0;31mKeyError\u001b[0m: 'DocumentSummarySet'"
     ]
    }
   ],
   "source": [
    "for ds in dsdocs['eSummaryResult']['DocumentSummarySet']['DocumentSummary']:\n",
    "    for p in ds['dbVarPlacementList']['dbVarPlacement']:\n",
    "        print(ds['@uid'], ds['ST'], ds['SV'], p['Chr'], p['Chr_start'],p['Chr_end'], p['Chr_inner_start'],p['Chr_inner_end'])"
   ]
  },
  {
   "cell_type": "markdown",
   "metadata": {},
   "source": [
    "# Try Entrez e-fetch\n",
    "### https://www.biostars.org/p/126143/"
   ]
  },
  {
   "cell_type": "code",
   "execution_count": null,
   "metadata": {},
   "outputs": [],
   "source": []
  },
  {
   "cell_type": "code",
   "execution_count": null,
   "metadata": {},
   "outputs": [],
   "source": []
  },
  {
   "cell_type": "code",
   "execution_count": null,
   "metadata": {},
   "outputs": [],
   "source": []
  },
  {
   "cell_type": "code",
   "execution_count": null,
   "metadata": {},
   "outputs": [],
   "source": []
  },
  {
   "cell_type": "code",
   "execution_count": null,
   "metadata": {},
   "outputs": [],
   "source": []
  },
  {
   "cell_type": "markdown",
   "metadata": {},
   "source": [
    "# JupyterDash Demo"
   ]
  },
  {
   "cell_type": "code",
   "execution_count": 4,
   "metadata": {},
   "outputs": [
    {
     "data": {
      "text/html": [
       "\n",
       "        <iframe\n",
       "            width=\"100%\"\n",
       "            height=\"650\"\n",
       "            src=\"http://127.0.0.1:8050/\"\n",
       "            frameborder=\"0\"\n",
       "            allowfullscreen\n",
       "        ></iframe>\n",
       "        "
      ],
      "text/plain": [
       "<IPython.lib.display.IFrame at 0x7efbf28bc4c0>"
      ]
     },
     "metadata": {},
     "output_type": "display_data"
    }
   ],
   "source": [
    "import plotly.express as px\n",
    "from jupyter_dash import JupyterDash\n",
    "import dash_core_components as dcc\n",
    "import dash_html_components as html\n",
    "import dash_bootstrap_components as dbc\n",
    "\n",
    "from dash.dependencies import Input, Output# Load Data\n",
    "df = px.data.tips()# Build App\n",
    "app = JupyterDash(__name__)\n",
    "app.layout = dbc.Container([\n",
    "    html.H1(\"JupyterDash Demo\"),\n",
    "    dcc.Graph(id='graph'),\n",
    "    html.Label([\n",
    "        \"colorscale\",\n",
    "        dcc.Dropdown(\n",
    "            id='colorscale-dropdown', clearable=False,\n",
    "            value='plasma', options=[\n",
    "                {'label': c, 'value': c}\n",
    "                for c in px.colors.named_colorscales()\n",
    "            ])\n",
    "    ]),\n",
    "])# Define callback to update graph\n",
    "@app.callback(\n",
    "    Output('graph', 'figure'),\n",
    "    [Input(\"colorscale-dropdown\", \"value\")]\n",
    ")\n",
    "def update_figure(colorscale):\n",
    "    return px.scatter(\n",
    "        df, x=\"total_bill\", y=\"tip\", color=\"size\",\n",
    "        color_continuous_scale=colorscale,\n",
    "        render_mode=\"webgl\", title=\"Tips\"\n",
    "    )# Run app and display result inline in the notebook\n",
    "app.run_server(mode='inline')"
   ]
  },
  {
   "cell_type": "code",
   "execution_count": 10,
   "metadata": {},
   "outputs": [
    {
     "ename": "KeyboardInterrupt",
     "evalue": "",
     "output_type": "error",
     "traceback": [
      "\u001b[0;31m---------------------------------------------------------------------------\u001b[0m",
      "\u001b[0;31mKeyboardInterrupt\u001b[0m                         Traceback (most recent call last)",
      "\u001b[0;32m<ipython-input-10-7eba9211303b>\u001b[0m in \u001b[0;36m<module>\u001b[0;34m\u001b[0m\n\u001b[1;32m    144\u001b[0m \u001b[0;34m\u001b[0m\u001b[0m\n\u001b[1;32m    145\u001b[0m \u001b[0;34m\u001b[0m\u001b[0m\n\u001b[0;32m--> 146\u001b[0;31m \u001b[0mapp\u001b[0m\u001b[0;34m.\u001b[0m\u001b[0mrun_server\u001b[0m\u001b[0;34m(\u001b[0m\u001b[0mmode\u001b[0m\u001b[0;34m=\u001b[0m\u001b[0;34m'inline'\u001b[0m\u001b[0;34m,\u001b[0m \u001b[0mport\u001b[0m\u001b[0;34m=\u001b[0m\u001b[0;36m8080\u001b[0m\u001b[0;34m)\u001b[0m\u001b[0;34m\u001b[0m\u001b[0;34m\u001b[0m\u001b[0m\n\u001b[0m",
      "\u001b[0;32m~/anaconda3/envs/bio/lib/python3.8/site-packages/jupyter_dash/jupyter_app.py\u001b[0m in \u001b[0;36mrun_server\u001b[0;34m(self, mode, width, height, inline_exceptions, **kwargs)\u001b[0m\n\u001b[1;32m    218\u001b[0m \u001b[0;34m\u001b[0m\u001b[0m\n\u001b[1;32m    219\u001b[0m         \u001b[0;31m# Terminate any existing server using this port\u001b[0m\u001b[0;34m\u001b[0m\u001b[0;34m\u001b[0m\u001b[0;34m\u001b[0m\u001b[0m\n\u001b[0;32m--> 220\u001b[0;31m         \u001b[0mself\u001b[0m\u001b[0;34m.\u001b[0m\u001b[0m_terminate_server_for_port\u001b[0m\u001b[0;34m(\u001b[0m\u001b[0mhost\u001b[0m\u001b[0;34m,\u001b[0m \u001b[0mport\u001b[0m\u001b[0;34m)\u001b[0m\u001b[0;34m\u001b[0m\u001b[0;34m\u001b[0m\u001b[0m\n\u001b[0m\u001b[1;32m    221\u001b[0m \u001b[0;34m\u001b[0m\u001b[0m\n\u001b[1;32m    222\u001b[0m         \u001b[0;31m# Configure pathname prefix\u001b[0m\u001b[0;34m\u001b[0m\u001b[0;34m\u001b[0m\u001b[0;34m\u001b[0m\u001b[0m\n",
      "\u001b[0;32m~/anaconda3/envs/bio/lib/python3.8/site-packages/jupyter_dash/jupyter_app.py\u001b[0m in \u001b[0;36m_terminate_server_for_port\u001b[0;34m(cls, host, port)\u001b[0m\n\u001b[1;32m    416\u001b[0m         )\n\u001b[1;32m    417\u001b[0m         \u001b[0;32mtry\u001b[0m\u001b[0;34m:\u001b[0m\u001b[0;34m\u001b[0m\u001b[0;34m\u001b[0m\u001b[0m\n\u001b[0;32m--> 418\u001b[0;31m             \u001b[0mresponse\u001b[0m \u001b[0;34m=\u001b[0m \u001b[0mrequests\u001b[0m\u001b[0;34m.\u001b[0m\u001b[0mget\u001b[0m\u001b[0;34m(\u001b[0m\u001b[0mshutdown_url\u001b[0m\u001b[0;34m)\u001b[0m\u001b[0;34m\u001b[0m\u001b[0;34m\u001b[0m\u001b[0m\n\u001b[0m\u001b[1;32m    419\u001b[0m         \u001b[0;32mexcept\u001b[0m \u001b[0mException\u001b[0m \u001b[0;32mas\u001b[0m \u001b[0me\u001b[0m\u001b[0;34m:\u001b[0m\u001b[0;34m\u001b[0m\u001b[0;34m\u001b[0m\u001b[0m\n\u001b[1;32m    420\u001b[0m             \u001b[0;32mpass\u001b[0m\u001b[0;34m\u001b[0m\u001b[0;34m\u001b[0m\u001b[0m\n",
      "\u001b[0;32m~/anaconda3/envs/bio/lib/python3.8/site-packages/requests/api.py\u001b[0m in \u001b[0;36mget\u001b[0;34m(url, params, **kwargs)\u001b[0m\n\u001b[1;32m     74\u001b[0m \u001b[0;34m\u001b[0m\u001b[0m\n\u001b[1;32m     75\u001b[0m     \u001b[0mkwargs\u001b[0m\u001b[0;34m.\u001b[0m\u001b[0msetdefault\u001b[0m\u001b[0;34m(\u001b[0m\u001b[0;34m'allow_redirects'\u001b[0m\u001b[0;34m,\u001b[0m \u001b[0;32mTrue\u001b[0m\u001b[0;34m)\u001b[0m\u001b[0;34m\u001b[0m\u001b[0;34m\u001b[0m\u001b[0m\n\u001b[0;32m---> 76\u001b[0;31m     \u001b[0;32mreturn\u001b[0m \u001b[0mrequest\u001b[0m\u001b[0;34m(\u001b[0m\u001b[0;34m'get'\u001b[0m\u001b[0;34m,\u001b[0m \u001b[0murl\u001b[0m\u001b[0;34m,\u001b[0m \u001b[0mparams\u001b[0m\u001b[0;34m=\u001b[0m\u001b[0mparams\u001b[0m\u001b[0;34m,\u001b[0m \u001b[0;34m**\u001b[0m\u001b[0mkwargs\u001b[0m\u001b[0;34m)\u001b[0m\u001b[0;34m\u001b[0m\u001b[0;34m\u001b[0m\u001b[0m\n\u001b[0m\u001b[1;32m     77\u001b[0m \u001b[0;34m\u001b[0m\u001b[0m\n\u001b[1;32m     78\u001b[0m \u001b[0;34m\u001b[0m\u001b[0m\n",
      "\u001b[0;32m~/anaconda3/envs/bio/lib/python3.8/site-packages/requests/api.py\u001b[0m in \u001b[0;36mrequest\u001b[0;34m(method, url, **kwargs)\u001b[0m\n\u001b[1;32m     59\u001b[0m     \u001b[0;31m# cases, and look like a memory leak in others.\u001b[0m\u001b[0;34m\u001b[0m\u001b[0;34m\u001b[0m\u001b[0;34m\u001b[0m\u001b[0m\n\u001b[1;32m     60\u001b[0m     \u001b[0;32mwith\u001b[0m \u001b[0msessions\u001b[0m\u001b[0;34m.\u001b[0m\u001b[0mSession\u001b[0m\u001b[0;34m(\u001b[0m\u001b[0;34m)\u001b[0m \u001b[0;32mas\u001b[0m \u001b[0msession\u001b[0m\u001b[0;34m:\u001b[0m\u001b[0;34m\u001b[0m\u001b[0;34m\u001b[0m\u001b[0m\n\u001b[0;32m---> 61\u001b[0;31m         \u001b[0;32mreturn\u001b[0m \u001b[0msession\u001b[0m\u001b[0;34m.\u001b[0m\u001b[0mrequest\u001b[0m\u001b[0;34m(\u001b[0m\u001b[0mmethod\u001b[0m\u001b[0;34m=\u001b[0m\u001b[0mmethod\u001b[0m\u001b[0;34m,\u001b[0m \u001b[0murl\u001b[0m\u001b[0;34m=\u001b[0m\u001b[0murl\u001b[0m\u001b[0;34m,\u001b[0m \u001b[0;34m**\u001b[0m\u001b[0mkwargs\u001b[0m\u001b[0;34m)\u001b[0m\u001b[0;34m\u001b[0m\u001b[0;34m\u001b[0m\u001b[0m\n\u001b[0m\u001b[1;32m     62\u001b[0m \u001b[0;34m\u001b[0m\u001b[0m\n\u001b[1;32m     63\u001b[0m \u001b[0;34m\u001b[0m\u001b[0m\n",
      "\u001b[0;32m~/anaconda3/envs/bio/lib/python3.8/site-packages/requests/sessions.py\u001b[0m in \u001b[0;36mrequest\u001b[0;34m(self, method, url, params, data, headers, cookies, files, auth, timeout, allow_redirects, proxies, hooks, stream, verify, cert, json)\u001b[0m\n\u001b[1;32m    528\u001b[0m         }\n\u001b[1;32m    529\u001b[0m         \u001b[0msend_kwargs\u001b[0m\u001b[0;34m.\u001b[0m\u001b[0mupdate\u001b[0m\u001b[0;34m(\u001b[0m\u001b[0msettings\u001b[0m\u001b[0;34m)\u001b[0m\u001b[0;34m\u001b[0m\u001b[0;34m\u001b[0m\u001b[0m\n\u001b[0;32m--> 530\u001b[0;31m         \u001b[0mresp\u001b[0m \u001b[0;34m=\u001b[0m \u001b[0mself\u001b[0m\u001b[0;34m.\u001b[0m\u001b[0msend\u001b[0m\u001b[0;34m(\u001b[0m\u001b[0mprep\u001b[0m\u001b[0;34m,\u001b[0m \u001b[0;34m**\u001b[0m\u001b[0msend_kwargs\u001b[0m\u001b[0;34m)\u001b[0m\u001b[0;34m\u001b[0m\u001b[0;34m\u001b[0m\u001b[0m\n\u001b[0m\u001b[1;32m    531\u001b[0m \u001b[0;34m\u001b[0m\u001b[0m\n\u001b[1;32m    532\u001b[0m         \u001b[0;32mreturn\u001b[0m \u001b[0mresp\u001b[0m\u001b[0;34m\u001b[0m\u001b[0;34m\u001b[0m\u001b[0m\n",
      "\u001b[0;32m~/anaconda3/envs/bio/lib/python3.8/site-packages/requests/sessions.py\u001b[0m in \u001b[0;36msend\u001b[0;34m(self, request, **kwargs)\u001b[0m\n\u001b[1;32m    641\u001b[0m \u001b[0;34m\u001b[0m\u001b[0m\n\u001b[1;32m    642\u001b[0m         \u001b[0;31m# Send the request\u001b[0m\u001b[0;34m\u001b[0m\u001b[0;34m\u001b[0m\u001b[0;34m\u001b[0m\u001b[0m\n\u001b[0;32m--> 643\u001b[0;31m         \u001b[0mr\u001b[0m \u001b[0;34m=\u001b[0m \u001b[0madapter\u001b[0m\u001b[0;34m.\u001b[0m\u001b[0msend\u001b[0m\u001b[0;34m(\u001b[0m\u001b[0mrequest\u001b[0m\u001b[0;34m,\u001b[0m \u001b[0;34m**\u001b[0m\u001b[0mkwargs\u001b[0m\u001b[0;34m)\u001b[0m\u001b[0;34m\u001b[0m\u001b[0;34m\u001b[0m\u001b[0m\n\u001b[0m\u001b[1;32m    644\u001b[0m \u001b[0;34m\u001b[0m\u001b[0m\n\u001b[1;32m    645\u001b[0m         \u001b[0;31m# Total elapsed time of the request (approximately)\u001b[0m\u001b[0;34m\u001b[0m\u001b[0;34m\u001b[0m\u001b[0;34m\u001b[0m\u001b[0m\n",
      "\u001b[0;32m~/anaconda3/envs/bio/lib/python3.8/site-packages/requests/adapters.py\u001b[0m in \u001b[0;36msend\u001b[0;34m(self, request, stream, timeout, verify, cert, proxies)\u001b[0m\n\u001b[1;32m    437\u001b[0m         \u001b[0;32mtry\u001b[0m\u001b[0;34m:\u001b[0m\u001b[0;34m\u001b[0m\u001b[0;34m\u001b[0m\u001b[0m\n\u001b[1;32m    438\u001b[0m             \u001b[0;32mif\u001b[0m \u001b[0;32mnot\u001b[0m \u001b[0mchunked\u001b[0m\u001b[0;34m:\u001b[0m\u001b[0;34m\u001b[0m\u001b[0;34m\u001b[0m\u001b[0m\n\u001b[0;32m--> 439\u001b[0;31m                 resp = conn.urlopen(\n\u001b[0m\u001b[1;32m    440\u001b[0m                     \u001b[0mmethod\u001b[0m\u001b[0;34m=\u001b[0m\u001b[0mrequest\u001b[0m\u001b[0;34m.\u001b[0m\u001b[0mmethod\u001b[0m\u001b[0;34m,\u001b[0m\u001b[0;34m\u001b[0m\u001b[0;34m\u001b[0m\u001b[0m\n\u001b[1;32m    441\u001b[0m                     \u001b[0murl\u001b[0m\u001b[0;34m=\u001b[0m\u001b[0murl\u001b[0m\u001b[0;34m,\u001b[0m\u001b[0;34m\u001b[0m\u001b[0;34m\u001b[0m\u001b[0m\n",
      "\u001b[0;32m~/anaconda3/envs/bio/lib/python3.8/site-packages/urllib3/connectionpool.py\u001b[0m in \u001b[0;36murlopen\u001b[0;34m(self, method, url, body, headers, retries, redirect, assert_same_host, timeout, pool_timeout, release_conn, chunked, body_pos, **response_kw)\u001b[0m\n\u001b[1;32m    668\u001b[0m \u001b[0;34m\u001b[0m\u001b[0m\n\u001b[1;32m    669\u001b[0m             \u001b[0;31m# Make the request on the httplib connection object.\u001b[0m\u001b[0;34m\u001b[0m\u001b[0;34m\u001b[0m\u001b[0;34m\u001b[0m\u001b[0m\n\u001b[0;32m--> 670\u001b[0;31m             httplib_response = self._make_request(\n\u001b[0m\u001b[1;32m    671\u001b[0m                 \u001b[0mconn\u001b[0m\u001b[0;34m,\u001b[0m\u001b[0;34m\u001b[0m\u001b[0;34m\u001b[0m\u001b[0m\n\u001b[1;32m    672\u001b[0m                 \u001b[0mmethod\u001b[0m\u001b[0;34m,\u001b[0m\u001b[0;34m\u001b[0m\u001b[0;34m\u001b[0m\u001b[0m\n",
      "\u001b[0;32m~/anaconda3/envs/bio/lib/python3.8/site-packages/urllib3/connectionpool.py\u001b[0m in \u001b[0;36m_make_request\u001b[0;34m(self, conn, method, url, timeout, chunked, **httplib_request_kw)\u001b[0m\n\u001b[1;32m    424\u001b[0m                     \u001b[0;31m# Python 3 (including for exceptions like SystemExit).\u001b[0m\u001b[0;34m\u001b[0m\u001b[0;34m\u001b[0m\u001b[0;34m\u001b[0m\u001b[0m\n\u001b[1;32m    425\u001b[0m                     \u001b[0;31m# Otherwise it looks like a bug in the code.\u001b[0m\u001b[0;34m\u001b[0m\u001b[0;34m\u001b[0m\u001b[0;34m\u001b[0m\u001b[0m\n\u001b[0;32m--> 426\u001b[0;31m                     \u001b[0msix\u001b[0m\u001b[0;34m.\u001b[0m\u001b[0mraise_from\u001b[0m\u001b[0;34m(\u001b[0m\u001b[0me\u001b[0m\u001b[0;34m,\u001b[0m \u001b[0;32mNone\u001b[0m\u001b[0;34m)\u001b[0m\u001b[0;34m\u001b[0m\u001b[0;34m\u001b[0m\u001b[0m\n\u001b[0m\u001b[1;32m    427\u001b[0m         \u001b[0;32mexcept\u001b[0m \u001b[0;34m(\u001b[0m\u001b[0mSocketTimeout\u001b[0m\u001b[0;34m,\u001b[0m \u001b[0mBaseSSLError\u001b[0m\u001b[0;34m,\u001b[0m \u001b[0mSocketError\u001b[0m\u001b[0;34m)\u001b[0m \u001b[0;32mas\u001b[0m \u001b[0me\u001b[0m\u001b[0;34m:\u001b[0m\u001b[0;34m\u001b[0m\u001b[0;34m\u001b[0m\u001b[0m\n\u001b[1;32m    428\u001b[0m             \u001b[0mself\u001b[0m\u001b[0;34m.\u001b[0m\u001b[0m_raise_timeout\u001b[0m\u001b[0;34m(\u001b[0m\u001b[0merr\u001b[0m\u001b[0;34m=\u001b[0m\u001b[0me\u001b[0m\u001b[0;34m,\u001b[0m \u001b[0murl\u001b[0m\u001b[0;34m=\u001b[0m\u001b[0murl\u001b[0m\u001b[0;34m,\u001b[0m \u001b[0mtimeout_value\u001b[0m\u001b[0;34m=\u001b[0m\u001b[0mread_timeout\u001b[0m\u001b[0;34m)\u001b[0m\u001b[0;34m\u001b[0m\u001b[0;34m\u001b[0m\u001b[0m\n",
      "\u001b[0;32m~/anaconda3/envs/bio/lib/python3.8/site-packages/urllib3/packages/six.py\u001b[0m in \u001b[0;36mraise_from\u001b[0;34m(value, from_value)\u001b[0m\n",
      "\u001b[0;32m~/anaconda3/envs/bio/lib/python3.8/site-packages/urllib3/connectionpool.py\u001b[0m in \u001b[0;36m_make_request\u001b[0;34m(self, conn, method, url, timeout, chunked, **httplib_request_kw)\u001b[0m\n\u001b[1;32m    419\u001b[0m                 \u001b[0;31m# Python 3\u001b[0m\u001b[0;34m\u001b[0m\u001b[0;34m\u001b[0m\u001b[0;34m\u001b[0m\u001b[0m\n\u001b[1;32m    420\u001b[0m                 \u001b[0;32mtry\u001b[0m\u001b[0;34m:\u001b[0m\u001b[0;34m\u001b[0m\u001b[0;34m\u001b[0m\u001b[0m\n\u001b[0;32m--> 421\u001b[0;31m                     \u001b[0mhttplib_response\u001b[0m \u001b[0;34m=\u001b[0m \u001b[0mconn\u001b[0m\u001b[0;34m.\u001b[0m\u001b[0mgetresponse\u001b[0m\u001b[0;34m(\u001b[0m\u001b[0;34m)\u001b[0m\u001b[0;34m\u001b[0m\u001b[0;34m\u001b[0m\u001b[0m\n\u001b[0m\u001b[1;32m    422\u001b[0m                 \u001b[0;32mexcept\u001b[0m \u001b[0mBaseException\u001b[0m \u001b[0;32mas\u001b[0m \u001b[0me\u001b[0m\u001b[0;34m:\u001b[0m\u001b[0;34m\u001b[0m\u001b[0;34m\u001b[0m\u001b[0m\n\u001b[1;32m    423\u001b[0m                     \u001b[0;31m# Remove the TypeError from the exception chain in\u001b[0m\u001b[0;34m\u001b[0m\u001b[0;34m\u001b[0m\u001b[0;34m\u001b[0m\u001b[0m\n",
      "\u001b[0;32m~/anaconda3/envs/bio/lib/python3.8/http/client.py\u001b[0m in \u001b[0;36mgetresponse\u001b[0;34m(self)\u001b[0m\n\u001b[1;32m   1345\u001b[0m         \u001b[0;32mtry\u001b[0m\u001b[0;34m:\u001b[0m\u001b[0;34m\u001b[0m\u001b[0;34m\u001b[0m\u001b[0m\n\u001b[1;32m   1346\u001b[0m             \u001b[0;32mtry\u001b[0m\u001b[0;34m:\u001b[0m\u001b[0;34m\u001b[0m\u001b[0;34m\u001b[0m\u001b[0m\n\u001b[0;32m-> 1347\u001b[0;31m                 \u001b[0mresponse\u001b[0m\u001b[0;34m.\u001b[0m\u001b[0mbegin\u001b[0m\u001b[0;34m(\u001b[0m\u001b[0;34m)\u001b[0m\u001b[0;34m\u001b[0m\u001b[0;34m\u001b[0m\u001b[0m\n\u001b[0m\u001b[1;32m   1348\u001b[0m             \u001b[0;32mexcept\u001b[0m \u001b[0mConnectionError\u001b[0m\u001b[0;34m:\u001b[0m\u001b[0;34m\u001b[0m\u001b[0;34m\u001b[0m\u001b[0m\n\u001b[1;32m   1349\u001b[0m                 \u001b[0mself\u001b[0m\u001b[0;34m.\u001b[0m\u001b[0mclose\u001b[0m\u001b[0;34m(\u001b[0m\u001b[0;34m)\u001b[0m\u001b[0;34m\u001b[0m\u001b[0;34m\u001b[0m\u001b[0m\n",
      "\u001b[0;32m~/anaconda3/envs/bio/lib/python3.8/http/client.py\u001b[0m in \u001b[0;36mbegin\u001b[0;34m(self)\u001b[0m\n\u001b[1;32m    305\u001b[0m         \u001b[0;31m# read until we get a non-100 response\u001b[0m\u001b[0;34m\u001b[0m\u001b[0;34m\u001b[0m\u001b[0;34m\u001b[0m\u001b[0m\n\u001b[1;32m    306\u001b[0m         \u001b[0;32mwhile\u001b[0m \u001b[0;32mTrue\u001b[0m\u001b[0;34m:\u001b[0m\u001b[0;34m\u001b[0m\u001b[0;34m\u001b[0m\u001b[0m\n\u001b[0;32m--> 307\u001b[0;31m             \u001b[0mversion\u001b[0m\u001b[0;34m,\u001b[0m \u001b[0mstatus\u001b[0m\u001b[0;34m,\u001b[0m \u001b[0mreason\u001b[0m \u001b[0;34m=\u001b[0m \u001b[0mself\u001b[0m\u001b[0;34m.\u001b[0m\u001b[0m_read_status\u001b[0m\u001b[0;34m(\u001b[0m\u001b[0;34m)\u001b[0m\u001b[0;34m\u001b[0m\u001b[0;34m\u001b[0m\u001b[0m\n\u001b[0m\u001b[1;32m    308\u001b[0m             \u001b[0;32mif\u001b[0m \u001b[0mstatus\u001b[0m \u001b[0;34m!=\u001b[0m \u001b[0mCONTINUE\u001b[0m\u001b[0;34m:\u001b[0m\u001b[0;34m\u001b[0m\u001b[0;34m\u001b[0m\u001b[0m\n\u001b[1;32m    309\u001b[0m                 \u001b[0;32mbreak\u001b[0m\u001b[0;34m\u001b[0m\u001b[0;34m\u001b[0m\u001b[0m\n",
      "\u001b[0;32m~/anaconda3/envs/bio/lib/python3.8/http/client.py\u001b[0m in \u001b[0;36m_read_status\u001b[0;34m(self)\u001b[0m\n\u001b[1;32m    266\u001b[0m \u001b[0;34m\u001b[0m\u001b[0m\n\u001b[1;32m    267\u001b[0m     \u001b[0;32mdef\u001b[0m \u001b[0m_read_status\u001b[0m\u001b[0;34m(\u001b[0m\u001b[0mself\u001b[0m\u001b[0;34m)\u001b[0m\u001b[0;34m:\u001b[0m\u001b[0;34m\u001b[0m\u001b[0;34m\u001b[0m\u001b[0m\n\u001b[0;32m--> 268\u001b[0;31m         \u001b[0mline\u001b[0m \u001b[0;34m=\u001b[0m \u001b[0mstr\u001b[0m\u001b[0;34m(\u001b[0m\u001b[0mself\u001b[0m\u001b[0;34m.\u001b[0m\u001b[0mfp\u001b[0m\u001b[0;34m.\u001b[0m\u001b[0mreadline\u001b[0m\u001b[0;34m(\u001b[0m\u001b[0m_MAXLINE\u001b[0m \u001b[0;34m+\u001b[0m \u001b[0;36m1\u001b[0m\u001b[0;34m)\u001b[0m\u001b[0;34m,\u001b[0m \u001b[0;34m\"iso-8859-1\"\u001b[0m\u001b[0;34m)\u001b[0m\u001b[0;34m\u001b[0m\u001b[0;34m\u001b[0m\u001b[0m\n\u001b[0m\u001b[1;32m    269\u001b[0m         \u001b[0;32mif\u001b[0m \u001b[0mlen\u001b[0m\u001b[0;34m(\u001b[0m\u001b[0mline\u001b[0m\u001b[0;34m)\u001b[0m \u001b[0;34m>\u001b[0m \u001b[0m_MAXLINE\u001b[0m\u001b[0;34m:\u001b[0m\u001b[0;34m\u001b[0m\u001b[0;34m\u001b[0m\u001b[0m\n\u001b[1;32m    270\u001b[0m             \u001b[0;32mraise\u001b[0m \u001b[0mLineTooLong\u001b[0m\u001b[0;34m(\u001b[0m\u001b[0;34m\"status line\"\u001b[0m\u001b[0;34m)\u001b[0m\u001b[0;34m\u001b[0m\u001b[0;34m\u001b[0m\u001b[0m\n",
      "\u001b[0;32m~/anaconda3/envs/bio/lib/python3.8/socket.py\u001b[0m in \u001b[0;36mreadinto\u001b[0;34m(self, b)\u001b[0m\n\u001b[1;32m    667\u001b[0m         \u001b[0;32mwhile\u001b[0m \u001b[0;32mTrue\u001b[0m\u001b[0;34m:\u001b[0m\u001b[0;34m\u001b[0m\u001b[0;34m\u001b[0m\u001b[0m\n\u001b[1;32m    668\u001b[0m             \u001b[0;32mtry\u001b[0m\u001b[0;34m:\u001b[0m\u001b[0;34m\u001b[0m\u001b[0;34m\u001b[0m\u001b[0m\n\u001b[0;32m--> 669\u001b[0;31m                 \u001b[0;32mreturn\u001b[0m \u001b[0mself\u001b[0m\u001b[0;34m.\u001b[0m\u001b[0m_sock\u001b[0m\u001b[0;34m.\u001b[0m\u001b[0mrecv_into\u001b[0m\u001b[0;34m(\u001b[0m\u001b[0mb\u001b[0m\u001b[0;34m)\u001b[0m\u001b[0;34m\u001b[0m\u001b[0;34m\u001b[0m\u001b[0m\n\u001b[0m\u001b[1;32m    670\u001b[0m             \u001b[0;32mexcept\u001b[0m \u001b[0mtimeout\u001b[0m\u001b[0;34m:\u001b[0m\u001b[0;34m\u001b[0m\u001b[0;34m\u001b[0m\u001b[0m\n\u001b[1;32m    671\u001b[0m                 \u001b[0mself\u001b[0m\u001b[0;34m.\u001b[0m\u001b[0m_timeout_occurred\u001b[0m \u001b[0;34m=\u001b[0m \u001b[0;32mTrue\u001b[0m\u001b[0;34m\u001b[0m\u001b[0;34m\u001b[0m\u001b[0m\n",
      "\u001b[0;31mKeyboardInterrupt\u001b[0m: "
     ]
    }
   ],
   "source": [
    "\"\"\"\n",
    "Dash port of Shiny iris k-means example:\n",
    "\n",
    "https://shiny.rstudio.com/gallery/kmeans-example.html\n",
    "\"\"\"\n",
    "#import dash\n",
    "import dash_bootstrap_components as dbc\n",
    "import dash_core_components as dcc\n",
    "import dash_html_components as html\n",
    "import pandas as pd\n",
    "import plotly.graph_objs as go\n",
    "from dash.dependencies import Input, Output\n",
    "from sklearn import datasets\n",
    "from sklearn.cluster import KMeans\n",
    "\n",
    "########################################\n",
    "import plotly.express as px\n",
    "from jupyter_dash import JupyterDash\n",
    "import dash_core_components as dcc\n",
    "import dash_html_components as html\n",
    "import dash_bootstrap_components as dbc\n",
    "\n",
    "from dash.dependencies import Input, Output# Load Data\n",
    "df = px.data.tips()# Build App\n",
    "app = JupyterDash(__name__, external_stylesheets=[dbc.themes.BOOTSTRAP])\n",
    "##############################################\n",
    "\n",
    "iris_raw = datasets.load_iris()\n",
    "iris = pd.DataFrame(iris_raw[\"data\"], columns=iris_raw[\"feature_names\"])\n",
    "\n",
    "#app = dash.Dash(external_stylesheets=[dbc.themes.BOOTSTRAP])\n",
    "\n",
    "controls = dbc.Card(\n",
    "    [\n",
    "        dbc.FormGroup(\n",
    "            [\n",
    "                dbc.Label(\"X variable\"),\n",
    "                dcc.Dropdown(\n",
    "                    id=\"x-variable\",\n",
    "                    options=[\n",
    "                        {\"label\": col, \"value\": col} for col in iris.columns\n",
    "                    ],\n",
    "                    value=\"sepal length (cm)\",\n",
    "                ),\n",
    "            ]\n",
    "        ),\n",
    "        dbc.FormGroup(\n",
    "            [\n",
    "                dbc.Label(\"Y variable\"),\n",
    "                dcc.Dropdown(\n",
    "                    id=\"y-variable\",\n",
    "                    options=[\n",
    "                        {\"label\": col, \"value\": col} for col in iris.columns\n",
    "                    ],\n",
    "                    value=\"sepal width (cm)\",\n",
    "                ),\n",
    "            ]\n",
    "        ),\n",
    "        dbc.FormGroup(\n",
    "            [\n",
    "                dbc.Label(\"Cluster count\"),\n",
    "                dbc.Input(id=\"cluster-count\", type=\"number\", value=3),\n",
    "            ]\n",
    "        ),\n",
    "    ],\n",
    "    body=True,\n",
    ")\n",
    "\n",
    "app.layout = dbc.Container(\n",
    "    [\n",
    "        html.H1(\"Iris k-means clustering\"),\n",
    "        html.Hr(),\n",
    "        dbc.Row(\n",
    "            [\n",
    "                dbc.Col(controls, md=4),\n",
    "                dbc.Col(dcc.Graph(id=\"cluster-graph\"), md=8),\n",
    "            ],\n",
    "            align=\"center\",\n",
    "        ),\n",
    "    ],\n",
    "    fluid=True,\n",
    ")\n",
    "\n",
    "\n",
    "@app.callback(\n",
    "    Output(\"cluster-graph\", \"figure\"),\n",
    "    [\n",
    "        Input(\"x-variable\", \"value\"),\n",
    "        Input(\"y-variable\", \"value\"),\n",
    "        Input(\"cluster-count\", \"value\"),\n",
    "    ],\n",
    ")\n",
    "def make_graph(x, y, n_clusters):\n",
    "    # minimal input validation, make sure there's at least one cluster\n",
    "    km = KMeans(n_clusters=max(n_clusters, 1))\n",
    "    df = iris.loc[:, [x, y]]\n",
    "    km.fit(df.values)\n",
    "    df[\"cluster\"] = km.labels_\n",
    "\n",
    "    centers = km.cluster_centers_\n",
    "\n",
    "    data = [\n",
    "        go.Scatter(\n",
    "            x=df.loc[df.cluster == c, x],\n",
    "            y=df.loc[df.cluster == c, y],\n",
    "            mode=\"markers\",\n",
    "            marker={\"size\": 8},\n",
    "            name=\"Cluster {}\".format(c),\n",
    "        )\n",
    "        for c in range(n_clusters)\n",
    "    ]\n",
    "\n",
    "    data.append(\n",
    "        go.Scatter(\n",
    "            x=centers[:, 0],\n",
    "            y=centers[:, 1],\n",
    "            mode=\"markers\",\n",
    "            marker={\"color\": \"#000\", \"size\": 12, \"symbol\": \"diamond\"},\n",
    "            name=\"Cluster centers\",\n",
    "        )\n",
    "    )\n",
    "\n",
    "    layout = {\"xaxis\": {\"title\": x}, \"yaxis\": {\"title\": y}}\n",
    "\n",
    "    return go.Figure(data=data, layout=layout)\n",
    "\n",
    "\n",
    "# make sure that x and y values can't be the same variable\n",
    "def filter_options(v):\n",
    "    \"\"\"Disable option v\"\"\"\n",
    "    return [\n",
    "        {\"label\": col, \"value\": col, \"disabled\": col == v}\n",
    "        for col in iris.columns\n",
    "    ]\n",
    "\n",
    "\n",
    "# functionality is the same for both dropdowns, so we reuse filter_options\n",
    "app.callback(Output(\"x-variable\", \"options\"), [Input(\"y-variable\", \"value\")])(\n",
    "    filter_options\n",
    ")\n",
    "app.callback(Output(\"y-variable\", \"options\"), [Input(\"x-variable\", \"value\")])(\n",
    "    filter_options\n",
    ")\n",
    "\n",
    "\n",
    "app.run_server(mode='inline', port=8080)"
   ]
  }
 ],
 "metadata": {
  "kernelspec": {
   "display_name": "Python 3",
   "language": "python",
   "name": "python3"
  },
  "language_info": {
   "codemirror_mode": {
    "name": "ipython",
    "version": 3
   },
   "file_extension": ".py",
   "mimetype": "text/x-python",
   "name": "python",
   "nbconvert_exporter": "python",
   "pygments_lexer": "ipython3",
   "version": "3.8.5"
  }
 },
 "nbformat": 4,
 "nbformat_minor": 4
}
