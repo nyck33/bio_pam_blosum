{
 "cells": [
  {
   "cell_type": "markdown",
   "metadata": {},
   "source": [
    "# Testing with slices of len==20 of real fasta files\n",
    "First two cells, I read in files and then slice.\n",
    "Second to last cell, I am trying to run it but get an error."
   ]
  },
  {
   "cell_type": "code",
   "execution_count": 29,
   "metadata": {},
   "outputs": [
    {
     "name": "stdout",
     "output_type": "stream",
     "text": [
      "Requirement already satisfied: biopython in /Library/Frameworks/Python.framework/Versions/3.6/lib/python3.6/site-packages (1.78)\r\n",
      "Requirement already satisfied: numpy in /Library/Frameworks/Python.framework/Versions/3.6/lib/python3.6/site-packages (from biopython) (1.18.1)\r\n"
     ]
    }
   ],
   "source": [
    "#!/usr/bin/env python3\n",
    "#Biopython example for Blosum62\n",
    "import sys\n",
    "!{sys.executable} -m pip install 'biopython'\n",
    "from Bio import pairwise2\n",
    "from Bio import SeqIO\n",
    "from Bio.Align import substitution_matrices\n",
    "blosum62=substitution_matrices.load(\"BLOSUM62\")\n",
    "#seq1 = SeqIO.read(\"example_fasta_files/homo_sapiens_lactate.fasta\", \"fasta\")\n",
    "#eq2 = SeqIO.read(\"example_fasta_files/mus_musculus_lactate.fasta\", \"fasta\")\n",
    "seq1 = SeqIO.read(\"example_fasta_files/corvyllus.fasta\", \"fasta\")\n",
    "seq2 = SeqIO.read(\"example_fasta_files/drosophilaAE014297.fasta\", \"fasta\")\n",
    "# cast to string\n",
    "a_str = str(seq1.seq)\n",
    "b_str = str(seq1.seq)"
   ]
  },
  {
   "cell_type": "code",
   "execution_count": 1,
   "metadata": {},
   "outputs": [
    {
     "ename": "AttributeError",
     "evalue": "module 'Bio.Align' has no attribute 'Pairwise'",
     "output_type": "error",
     "traceback": [
      "\u001b[0;31m---------------------------------------------------------------------------\u001b[0m",
      "\u001b[0;31mAttributeError\u001b[0m                            Traceback (most recent call last)",
      "\u001b[0;32m<ipython-input-1-bf7cb5ad4ab9>\u001b[0m in \u001b[0;36m<module>\u001b[0;34m\u001b[0m\n\u001b[1;32m      1\u001b[0m \u001b[0;31m#local alignment using Aligner:\u001b[0m\u001b[0;34m\u001b[0m\u001b[0;34m\u001b[0m\u001b[0;34m\u001b[0m\u001b[0m\n\u001b[1;32m      2\u001b[0m \u001b[0;32mfrom\u001b[0m \u001b[0mBio\u001b[0m \u001b[0;32mimport\u001b[0m \u001b[0mAlign\u001b[0m\u001b[0;34m\u001b[0m\u001b[0;34m\u001b[0m\u001b[0m\n\u001b[0;32m----> 3\u001b[0;31m \u001b[0maligner\u001b[0m \u001b[0;34m=\u001b[0m \u001b[0mAlign\u001b[0m\u001b[0;34m.\u001b[0m\u001b[0mPairwise\u001b[0m\u001b[0;34m\u001b[0m\u001b[0;34m\u001b[0m\u001b[0m\n\u001b[0m",
      "\u001b[0;31mAttributeError\u001b[0m: module 'Bio.Align' has no attribute 'Pairwise'"
     ]
    }
   ],
   "source": [
    "#local alignment using Aligner: \n",
    "from Bio import Align\n",
    "aligner = Align.PairwiseAligner()\n",
    "\n",
    "\n"
   ]
  },
  {
   "cell_type": "code",
   "execution_count": null,
   "metadata": {},
   "outputs": [],
   "source": []
  },
  {
   "cell_type": "code",
   "execution_count": null,
   "metadata": {},
   "outputs": [],
   "source": []
  },
  {
   "cell_type": "code",
   "execution_count": 30,
   "metadata": {},
   "outputs": [
    {
     "name": "stdout",
     "output_type": "stream",
     "text": [
      "MATLKDQLIYNLLKEEQTPQ\n",
      "NKITVVGVGAVGMACAISIL\n"
     ]
    }
   ],
   "source": [
    "print(f'{a_str[:20]}\\n{b_str[20:40]}')\n",
    "slice_a = a_str[:20]\n",
    "slice_b = b_str[20:40]"
   ]
  },
  {
   "cell_type": "code",
   "execution_count": 31,
   "metadata": {},
   "outputs": [],
   "source": [
    "import numpy as np\n"
   ]
  },
  {
   "cell_type": "markdown",
   "metadata": {},
   "source": [
    "Compare two input symbols"
   ]
  },
  {
   "cell_type": "code",
   "execution_count": 32,
   "metadata": {},
   "outputs": [],
   "source": [
    "def compare(a, b, match, gap, mis_match):\n",
    "    if a == b:\n",
    "        return match\n",
    "    elif \" \" == a or b == \" \":\n",
    "        return gap\n",
    "    else:\n",
    "        return mis_match"
   ]
  },
  {
   "cell_type": "markdown",
   "metadata": {},
   "source": [
    "We build the matrics, the intake variable are two protein sequences, match score, mismatch score, and gap penalty. \n",
    "first the we need to initialize the matrix based on the length of two sequences. \n",
    "Then we calculate "
   ]
  },
  {
   "cell_type": "code",
   "execution_count": 33,
   "metadata": {},
   "outputs": [],
   "source": [
    "#currently the matrix is looking for minimum number, thus the scoreig\n",
    "def build_matrics(seq1, seq2, match, mis_match, gap):\n",
    "    a = len(seq1)\n",
    "    b = len(seq2)\n",
    "    \n",
    "    #initialize the matrics\n",
    "    S = np.zeros((a + 1, b + 1))\n",
    "    \n",
    "    #set 0 to the first row and the first column, or we can initialize the number from 1 to len(sequence)\n",
    "    #as mentioned in https://en.wikipedia.org/wiki/Needleman%E2%80%93Wunsch_algorithm\n",
    "    \n",
    "    S[0, :] = np.fromfunction(lambda x, y: gap * (x + y), (1, b + 1), dtype=int)\n",
    "    S[:, 0] = np.fromfunction(lambda x, y: gap * (x + y), (1,a + 1), dtype=int)\n",
    "    \n",
    "    #add empty space before the sequece.\n",
    "    seq1 = \" \" + seq1[:]\n",
    "    seq2 = \" \" + seq2[:]\n",
    "    \n",
    "    \n",
    "    #longer length sequence set as row\n",
    "    for i in range(1, b+1 if a>b else a+1):\n",
    "        #iterate loop to find the minimum score.\n",
    "        for j in range(i, b+1):\n",
    "            last_score = [S[i - 1, j], S[i - 1, j - 1], S[i, j - 1]]\n",
    "            change_score = [gap,compare(seq1[i],seq2[j], match, gap, mis_match),gap]\n",
    "\n",
    "            new_score = np.add(last_score, change_score)\n",
    "\n",
    "            S[i,j] = max(new_score)\n",
    "            # print(S[i,c])\n",
    "        for j in range(i+1, a+1):\n",
    "\n",
    "            last_score = [S[j-1,i], S[j-1, i-1], S[j, i - 1]]\n",
    "            change_score = [gap,compare(seq1[j],seq2[i], match, gap, mis_match),gap]\n",
    "            new_score = np.add(last_score, change_score)\n",
    "            S[j,i] = max(new_score)\n",
    "    return S\n"
   ]
  },
  {
   "cell_type": "code",
   "execution_count": 39,
   "metadata": {},
   "outputs": [],
   "source": [
    "def trace_back(seq1, seq2, match, mismatch, gap, S, current_x, current_y, S1, S2, t1, t2, score, ts):\n",
    "    \n",
    "    if current_x == 0 and current_y == 0:\n",
    "        #print(\"reached here\")\n",
    "        S1.append(seq1[1] + t1[:])\n",
    "        S2.append(seq2[1] + t2[:])\n",
    "        score.append(ts)\n",
    "        return\n",
    "    if current_x>0 and current_y>0:\n",
    "        if S[current_x,current_y]-S[current_x-1,current_y-1] == compare(seq1[current_x], seq2[current_y], match, mismatch, gap):\n",
    "            #print(current_x, current_y, t1)\n",
    "            ts = ts + S[current_x,current_y]\n",
    "            trace_back(seq1, seq2, match, mismatch, gap, S, current_x-1, current_y-1, S1, S2, seq1[current_x] + t1[:], seq2[current_y] + t2[:], score, ts)\n",
    "    if current_y>0:\n",
    "        if S[current_x,current_y]-S[current_x,current_y-1] == gap:\n",
    "            #print(current_x, current_y, t1)\n",
    "            ts = ts + S[current_x,current_y]\n",
    "            trace_back(seq1, seq2, match, mismatch, gap, S, current_x, current_y-1, S1, S2, \"-\" + t1[:], seq2[current_y] + t2[:], score, ts)\n",
    "    if current_x>0:\n",
    "        if S[current_x,current_y]-S[current_x-1,current_y] == gap:\n",
    "            #print(current_x, current_y, t1)\n",
    "            ts = ts + S[current_x,current_y]\n",
    "            trace_back(seq1, seq2, match, mismatch, gap, S, current_x-1, current_y, S1, S2, seq1[current_x]+t1[:], \"-\"+t2[:], score, ts)\n"
   ]
  },
  {
   "cell_type": "code",
   "execution_count": 45,
   "metadata": {},
   "outputs": [
    {
     "name": "stdout",
     "output_type": "stream",
     "text": [
      "M-MAT-------LKDQLIYNLLKEEQTPQ\n",
      "NNKITVVGVGAVGMACAI-SIL-------\n",
      "F:\n",
      "[[  0.  -1.  -2.  -3.  -4.  -5.  -6.  -7.  -8.  -9. -10. -11. -12. -13.\n",
      "  -14. -15. -16. -17. -18. -19. -20.]\n",
      " [ -1.  -1.  -2.  -3.  -4.  -5.  -6.  -7.  -8.  -9. -10. -11. -12.  -9.\n",
      "  -10. -11. -12. -13. -14. -15. -16.]\n",
      " [ -2.  -2.  -2.  -3.  -4.  -5.  -6.  -7.  -8.  -9.  -6.  -7.  -8.  -9.\n",
      "   -6.  -7.  -8.  -9. -10. -11. -12.]\n",
      " [ -3.  -3.  -3.  -3.   0.  -1.  -2.  -3.  -4.  -5.  -6.  -7.  -8.  -9.\n",
      "   -7.  -7.  -8.  -9. -10. -11. -12.]\n",
      " [ -4.  -4.  -4.  -4.  -1.  -1.  -2.  -3.  -4.  -5.  -6.  -7.  -8.  -9.\n",
      "   -8.  -8.  -8.  -9. -10. -11.  -8.]\n",
      " [ -5.  -5.  -1.  -2.  -2.  -2.  -2.  -3.  -4.  -5.  -6.  -7.  -8.  -9.\n",
      "   -9.  -9.  -9.  -9. -10. -11.  -9.]\n",
      " [ -6.  -6.  -2.  -2.  -3.  -3.  -3.  -3.  -4.  -5.  -6.  -7.  -8.  -9.\n",
      "  -10. -10. -10. -10. -10. -11. -10.]\n",
      " [ -7.  -7.  -3.  -3.  -3.  -4.  -4.  -4.  -4.  -5.  -6.  -7.  -8.  -9.\n",
      "  -10. -11. -11. -11. -11. -11. -11.]\n",
      " [ -8.  -8.  -4.  -4.  -4.  -4.  -5.  -5.  -5.  -5.  -6.  -7.  -8.  -9.\n",
      "  -10. -11. -12. -12. -12. -12.  -8.]\n",
      " [ -9.  -9.  -5.  -1.  -2.  -3.  -4.  -5.  -6.  -6.  -6.  -7.  -8.  -9.\n",
      "  -10. -11. -12.  -9. -10.  -9.  -9.]\n",
      " [-10. -10.  -6.  -2.  -2.  -3.  -4.  -5.  -6.  -7.  -7.  -7.  -8.  -9.\n",
      "  -10. -11. -12. -10. -10. -10. -10.]\n",
      " [-11.  -7.  -7.  -3.  -3.  -3.  -4.  -5.  -6.  -7.  -8.  -8.  -8.  -9.\n",
      "  -10. -11. -12. -11. -11. -11. -11.]\n",
      " [-12.  -8.  -8.  -4.  -4.  -4.  -4.  -5.  -6.  -7.  -8.  -9.  -9.  -9.\n",
      "  -10. -11. -12. -12. -12. -12.  -8.]\n",
      " [-13.  -9.  -9.  -5.  -5.  -5.  -5.  -5.  -6.  -7.  -8.  -9. -10. -10.\n",
      "  -10. -11. -12. -13. -13. -13.  -9.]\n",
      " [-14. -10.  -6.  -6.  -6.  -6.  -6.  -6.  -6.  -7.  -8.  -9. -10. -11.\n",
      "  -11. -11. -12. -13. -14. -14. -10.]\n",
      " [-15. -11.  -7.  -7.  -7.  -7.  -7.  -7.  -7.  -7.  -8.  -9. -10. -11.\n",
      "  -12. -12. -12. -13. -14. -15. -11.]\n",
      " [-16. -12.  -8.  -8.  -8.  -8.  -8.  -8.  -8.  -8.  -8.  -9. -10. -11.\n",
      "  -12. -13. -13. -13. -14. -15. -12.]\n",
      " [-17. -13.  -9.  -9.  -9.  -9.  -9.  -9.  -9.  -9.  -9.  -9. -10. -11.\n",
      "  -12. -13. -14. -14. -14. -15. -13.]\n",
      " [-18. -14. -10. -10.  -6.  -7.  -8.  -9. -10. -10. -10. -10. -10. -11.\n",
      "  -12. -13. -14. -15. -15. -15. -14.]\n",
      " [-19. -15. -11. -11.  -7.  -7.  -8.  -9. -10. -11. -11. -11. -11. -11.\n",
      "  -12. -13. -14. -15. -16. -16. -15.]\n",
      " [-20. -16. -12. -12.  -8.  -8.  -8.  -9. -10. -11. -12. -12. -12. -12.\n",
      "  -12. -13. -14. -15. -16. -17. -16.]]\n"
     ]
    }
   ],
   "source": [
    "\n",
    "F=build_matrics(slice_a, slice_b, 3,-1,-1)\n",
    "S1 = []\n",
    "S2 = []\n",
    "score=[]\n",
    "ts=0\n",
    "t1 = \"\"\n",
    "t2 = \"\"\n",
    "trace_back(\" \"+slice_a, \" \"+slice_b, 3, -1, -1, F, F.shape[0]-1, F.shape[1]-1, S1, S2, t1, t2, score, ts)\n",
    "#print(f'S1:\\n{S1}') # all the seq1's in a list\n",
    "#print(f'S2:\\n{S2}') # all seq2's in list\n",
    "print(S1[score.index(max(score))])\n",
    "print(S2[score.index(max(score))])\n",
    "print(f'F:\\n{F}') # the matrix"
   ]
  },
  {
   "cell_type": "code",
   "execution_count": 23,
   "metadata": {},
   "outputs": [
    {
     "name": "stdout",
     "output_type": "stream",
     "text": [
      "5 3 \n",
      "4 3 C\n",
      "3 2 GC\n",
      "2 1 GGC\n",
      "1 1 TGGC\n",
      "reached here\n",
      "S1:\n",
      "['AATGGC']\n",
      "S2:\n",
      "['AA-GG-']\n",
      "F:\n",
      "[[ 0. -1. -2. -3.]\n",
      " [-1.  3.  2.  1.]\n",
      " [-2.  2.  2.  1.]\n",
      " [-3.  1.  5.  5.]\n",
      " [-4.  0.  4.  8.]\n",
      " [-5. -1.  3.  7.]]\n",
      "<class 'list'> <class 'list'> <class 'numpy.ndarray'>\n"
     ]
    }
   ],
   "source": [
    "F = build_matrics(\"ATGGC\",\"AGG\",3,-1,-1)\n",
    "S1 = []\n",
    "S2 = []\n",
    "t1 = \"\"\n",
    "t2 = \"\"\n",
    "trace_back(\" ATGGC\", \" AGG\", 3, -1, -1, F, F.shape[0]-1, F.shape[1]-1, S1, S2, t1, t2)\n",
    "print(f'S1:\\n{S1}')\n",
    "print(f'S2:\\n{S2}')\n",
    "print(f'F:\\n{F}')\n",
    "print(type(S1), type(S2), type(F))"
   ]
  },
  {
   "cell_type": "code",
   "execution_count": null,
   "metadata": {},
   "outputs": [],
   "source": []
  }
 ],
 "metadata": {
  "kernelspec": {
   "display_name": "Python 3",
   "language": "python",
   "name": "python3"
  },
  "language_info": {
   "codemirror_mode": {
    "name": "ipython",
    "version": 3
   },
   "file_extension": ".py",
   "mimetype": "text/x-python",
   "name": "python",
   "nbconvert_exporter": "python",
   "pygments_lexer": "ipython3",
   "version": "3.8.5"
  }
 },
 "nbformat": 4,
 "nbformat_minor": 4
}
